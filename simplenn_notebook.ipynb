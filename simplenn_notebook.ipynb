{
 "cells": [
  {
   "cell_type": "markdown",
   "metadata": {},
   "source": [
    "## Data loading"
   ]
  },
  {
   "cell_type": "markdown",
   "metadata": {},
   "source": [
    "Sources: \n",
    "- https://physionet.org/content/ptb-xl/1.0.3/\n",
    "\n",
    "\n",
    "The code comes with a script to load the data, I have taken inspiration from most of it https://physionet.org/content/ptb-xl/1.0.3/example_physionet.py"
   ]
  },
  {
   "cell_type": "markdown",
   "source": [
    "### Importing the necessary libraries"
   ],
   "metadata": {
    "collapsed": false
   }
  },
  {
   "cell_type": "code",
   "outputs": [],
   "source": [
    "import numpy as np\n",
    "import pandas as pd\n",
    "import matplotlib.pyplot as plt\n",
    "from sklearn.preprocessing import MultiLabelBinarizer\n",
    "import tensorflow as tf\n",
    "from tensorflow.keras import Sequential\n",
    "from tensorflow.keras.layers import Dense, Conv1D, MaxPooling1D, Flatten, Dropout, Input, BatchNormalization,concatenate, GlobalAveragePooling1D\n",
    "\n"
   ],
   "metadata": {
    "collapsed": false,
    "ExecuteTime": {
     "end_time": "2024-05-31T12:54:38.380837Z",
     "start_time": "2024-05-31T12:54:22.883144Z"
    }
   },
   "execution_count": 2
  },
  {
   "cell_type": "code",
   "execution_count": 3,
   "metadata": {
    "ExecuteTime": {
     "end_time": "2024-05-31T12:55:05.281505Z",
     "start_time": "2024-05-31T12:54:38.382185Z"
    }
   },
   "outputs": [],
   "source": [
    "from data_loading_utils import load_data_from_directory\n",
    "\n",
    "X, Y, df = load_data_from_directory(\"data/\", sampling_rate=100)"
   ]
  },
  {
   "cell_type": "markdown",
   "source": [
    "### Data Exploration"
   ],
   "metadata": {
    "collapsed": false
   }
  },
  {
   "cell_type": "code",
   "outputs": [
    {
     "data": {
      "text/plain": "                                               description  diagnostic  form  \\\nNDT                         non-diagnostic T abnormalities         1.0   1.0   \nNST_                               non-specific ST changes         1.0   1.0   \nDIG                                       digitalis-effect         1.0   1.0   \nLNGQT                                     long QT-interval         1.0   1.0   \nNORM                                            normal ECG         1.0   NaN   \nIMI                         inferior myocardial infarction         1.0   NaN   \nASMI                    anteroseptal myocardial infarction         1.0   NaN   \nLVH                           left ventricular hypertrophy         1.0   NaN   \nLAFB                        left anterior fascicular block         1.0   NaN   \nISC_                                 non-specific ischemic         1.0   NaN   \nIRBBB                 incomplete right bundle branch block         1.0   NaN   \n1AVB                                 first degree AV block         1.0   NaN   \nIVCD     non-specific intraventricular conduction distu...         1.0   NaN   \nISCAL                      ischemic in anterolateral leads         1.0   NaN   \nCRBBB                   complete right bundle branch block         1.0   NaN   \nCLBBB                    complete left bundle branch block         1.0   NaN   \nILMI                   inferolateral myocardial infarction         1.0   NaN   \nLAO/LAE                   left atrial overload/enlargement         1.0   NaN   \nAMI                         anterior myocardial infarction         1.0   NaN   \nALMI                   anterolateral myocardial infarction         1.0   NaN   \n\n         rhythm diagnostic_class diagnostic_subclass  \\\nNDT         NaN             STTC                STTC   \nNST_        NaN             STTC                NST_   \nDIG         NaN             STTC                STTC   \nLNGQT       NaN             STTC                STTC   \nNORM        NaN             NORM                NORM   \nIMI         NaN               MI                 IMI   \nASMI        NaN               MI                 AMI   \nLVH         NaN              HYP                 LVH   \nLAFB        NaN               CD           LAFB/LPFB   \nISC_        NaN             STTC                ISC_   \nIRBBB       NaN               CD               IRBBB   \n1AVB        NaN               CD                _AVB   \nIVCD        NaN               CD                IVCD   \nISCAL       NaN             STTC                ISCA   \nCRBBB       NaN               CD               CRBBB   \nCLBBB       NaN               CD               CLBBB   \nILMI        NaN               MI                 IMI   \nLAO/LAE     NaN              HYP             LAO/LAE   \nAMI         NaN               MI                 AMI   \nALMI        NaN               MI                 AMI   \n\n                                        Statement Category  \\\nNDT                      other ST-T descriptive statements   \nNST_     Basic roots for coding ST-T changes and abnorm...   \nDIG                      other ST-T descriptive statements   \nLNGQT                    other ST-T descriptive statements   \nNORM                                       Normal/abnormal   \nIMI                                  Myocardial Infarction   \nASMI                                 Myocardial Infarction   \nLVH                                Ventricular Hypertrophy   \nLAFB     Intraventricular and intra-atrial Conduction d...   \nISC_     Basic roots for coding ST-T changes and abnorm...   \nIRBBB    Intraventricular and intra-atrial Conduction d...   \n1AVB     Sinus node dysfunction, atrial and AV-conducti...   \nIVCD     Intraventricular and intra-atrial Conduction d...   \nISCAL                                ischemic ST-T changes   \nCRBBB    Intraventricular and intra-atrial Conduction d...   \nCLBBB    Intraventricular and intra-atrial Conduction d...   \nILMI                                 Myocardial Infarction   \nLAO/LAE                                  Atrial statements   \nAMI                                  Myocardial Infarction   \nALMI                                 Myocardial Infarction   \n\n                             SCP-ECG Statement Description  AHA code  \\\nNDT                         non-diagnostic T abnormalities       NaN   \nNST_                               non-specific ST changes     145.0   \nDIG                              suggests digitalis-effect     205.0   \nLNGQT                                     long QT-interval     148.0   \nNORM                                            normal ECG       1.0   \nIMI                         inferior myocardial infarction     161.0   \nASMI                    anteroseptal myocardial infarction     165.0   \nLVH                           left ventricular hypertrophy     142.0   \nLAFB                        left anterior fascicular block     101.0   \nISC_                                 ischemic ST-T changes     226.0   \nIRBBB                 incomplete right bundle branch block     105.0   \n1AVB                                 first degree AV block       NaN   \nIVCD     non-specific intraventricular conduction distu...     107.0   \nISCAL                               in anterolateral leads       NaN   \nCRBBB                 (complete) right bundle branch block     106.0   \nCLBBB                  (complete) left bundle branch block     104.0   \nILMI                   inferolateral myocardial infarction       NaN   \nLAO/LAE                   left atrial overload/enlargement     140.0   \nAMI                         anterior myocardial infarction     160.0   \nALMI                   anterolateral myocardial infarction       NaN   \n\n                             aECG REFID CDISC Code          DICOM Code  \nNDT                                 NaN        NaN                 NaN  \nNST_               MDC_ECG_RHY_STHILOST        NaN                 NaN  \nDIG                                 NaN        NaN                 NaN  \nLNGQT                               NaN        NaN                 NaN  \nNORM                                NaN        NaN             F-000B7  \nIMI                                 NaN        NaN                 NaN  \nASMI                                NaN        NaN                 NaN  \nLVH                                 NaN     C71076                 NaN  \nLAFB        MDC_ECG_BEAT_BLK_ANT_L_HEMI     C62267            D3-33140  \nISC_                                NaN        NaN                 NaN  \nIRBBB       MDC_ECG_BEAT_RBB_BLK_INCOMP     C71048            D3-33112  \n1AVB     MDC_ECG_RHY_AV_HEART_BLK_DEG_1    C111088                 NaN  \nIVCD              MDC_ECG_BEAT_BLK_IVCD     C62271            D3-33000  \nISCAL                               NaN        NaN                 NaN  \nCRBBB         MDC_ECG_BEAT_RBB_BLK_COMP     C62270            D3-33110  \nCLBBB         MDC_ECG_BEAT_LBB_BLK_COMP     C62269  D3-33120 or 122752  \nILMI                                NaN        NaN                 NaN  \nLAO/LAE                             NaN        NaN                 NaN  \nAMI                                 NaN        NaN                 NaN  \nALMI                                NaN        NaN                 NaN  ",
      "text/html": "<div>\n<style scoped>\n    .dataframe tbody tr th:only-of-type {\n        vertical-align: middle;\n    }\n\n    .dataframe tbody tr th {\n        vertical-align: top;\n    }\n\n    .dataframe thead th {\n        text-align: right;\n    }\n</style>\n<table border=\"1\" class=\"dataframe\">\n  <thead>\n    <tr style=\"text-align: right;\">\n      <th></th>\n      <th>description</th>\n      <th>diagnostic</th>\n      <th>form</th>\n      <th>rhythm</th>\n      <th>diagnostic_class</th>\n      <th>diagnostic_subclass</th>\n      <th>Statement Category</th>\n      <th>SCP-ECG Statement Description</th>\n      <th>AHA code</th>\n      <th>aECG REFID</th>\n      <th>CDISC Code</th>\n      <th>DICOM Code</th>\n    </tr>\n  </thead>\n  <tbody>\n    <tr>\n      <th>NDT</th>\n      <td>non-diagnostic T abnormalities</td>\n      <td>1.0</td>\n      <td>1.0</td>\n      <td>NaN</td>\n      <td>STTC</td>\n      <td>STTC</td>\n      <td>other ST-T descriptive statements</td>\n      <td>non-diagnostic T abnormalities</td>\n      <td>NaN</td>\n      <td>NaN</td>\n      <td>NaN</td>\n      <td>NaN</td>\n    </tr>\n    <tr>\n      <th>NST_</th>\n      <td>non-specific ST changes</td>\n      <td>1.0</td>\n      <td>1.0</td>\n      <td>NaN</td>\n      <td>STTC</td>\n      <td>NST_</td>\n      <td>Basic roots for coding ST-T changes and abnorm...</td>\n      <td>non-specific ST changes</td>\n      <td>145.0</td>\n      <td>MDC_ECG_RHY_STHILOST</td>\n      <td>NaN</td>\n      <td>NaN</td>\n    </tr>\n    <tr>\n      <th>DIG</th>\n      <td>digitalis-effect</td>\n      <td>1.0</td>\n      <td>1.0</td>\n      <td>NaN</td>\n      <td>STTC</td>\n      <td>STTC</td>\n      <td>other ST-T descriptive statements</td>\n      <td>suggests digitalis-effect</td>\n      <td>205.0</td>\n      <td>NaN</td>\n      <td>NaN</td>\n      <td>NaN</td>\n    </tr>\n    <tr>\n      <th>LNGQT</th>\n      <td>long QT-interval</td>\n      <td>1.0</td>\n      <td>1.0</td>\n      <td>NaN</td>\n      <td>STTC</td>\n      <td>STTC</td>\n      <td>other ST-T descriptive statements</td>\n      <td>long QT-interval</td>\n      <td>148.0</td>\n      <td>NaN</td>\n      <td>NaN</td>\n      <td>NaN</td>\n    </tr>\n    <tr>\n      <th>NORM</th>\n      <td>normal ECG</td>\n      <td>1.0</td>\n      <td>NaN</td>\n      <td>NaN</td>\n      <td>NORM</td>\n      <td>NORM</td>\n      <td>Normal/abnormal</td>\n      <td>normal ECG</td>\n      <td>1.0</td>\n      <td>NaN</td>\n      <td>NaN</td>\n      <td>F-000B7</td>\n    </tr>\n    <tr>\n      <th>IMI</th>\n      <td>inferior myocardial infarction</td>\n      <td>1.0</td>\n      <td>NaN</td>\n      <td>NaN</td>\n      <td>MI</td>\n      <td>IMI</td>\n      <td>Myocardial Infarction</td>\n      <td>inferior myocardial infarction</td>\n      <td>161.0</td>\n      <td>NaN</td>\n      <td>NaN</td>\n      <td>NaN</td>\n    </tr>\n    <tr>\n      <th>ASMI</th>\n      <td>anteroseptal myocardial infarction</td>\n      <td>1.0</td>\n      <td>NaN</td>\n      <td>NaN</td>\n      <td>MI</td>\n      <td>AMI</td>\n      <td>Myocardial Infarction</td>\n      <td>anteroseptal myocardial infarction</td>\n      <td>165.0</td>\n      <td>NaN</td>\n      <td>NaN</td>\n      <td>NaN</td>\n    </tr>\n    <tr>\n      <th>LVH</th>\n      <td>left ventricular hypertrophy</td>\n      <td>1.0</td>\n      <td>NaN</td>\n      <td>NaN</td>\n      <td>HYP</td>\n      <td>LVH</td>\n      <td>Ventricular Hypertrophy</td>\n      <td>left ventricular hypertrophy</td>\n      <td>142.0</td>\n      <td>NaN</td>\n      <td>C71076</td>\n      <td>NaN</td>\n    </tr>\n    <tr>\n      <th>LAFB</th>\n      <td>left anterior fascicular block</td>\n      <td>1.0</td>\n      <td>NaN</td>\n      <td>NaN</td>\n      <td>CD</td>\n      <td>LAFB/LPFB</td>\n      <td>Intraventricular and intra-atrial Conduction d...</td>\n      <td>left anterior fascicular block</td>\n      <td>101.0</td>\n      <td>MDC_ECG_BEAT_BLK_ANT_L_HEMI</td>\n      <td>C62267</td>\n      <td>D3-33140</td>\n    </tr>\n    <tr>\n      <th>ISC_</th>\n      <td>non-specific ischemic</td>\n      <td>1.0</td>\n      <td>NaN</td>\n      <td>NaN</td>\n      <td>STTC</td>\n      <td>ISC_</td>\n      <td>Basic roots for coding ST-T changes and abnorm...</td>\n      <td>ischemic ST-T changes</td>\n      <td>226.0</td>\n      <td>NaN</td>\n      <td>NaN</td>\n      <td>NaN</td>\n    </tr>\n    <tr>\n      <th>IRBBB</th>\n      <td>incomplete right bundle branch block</td>\n      <td>1.0</td>\n      <td>NaN</td>\n      <td>NaN</td>\n      <td>CD</td>\n      <td>IRBBB</td>\n      <td>Intraventricular and intra-atrial Conduction d...</td>\n      <td>incomplete right bundle branch block</td>\n      <td>105.0</td>\n      <td>MDC_ECG_BEAT_RBB_BLK_INCOMP</td>\n      <td>C71048</td>\n      <td>D3-33112</td>\n    </tr>\n    <tr>\n      <th>1AVB</th>\n      <td>first degree AV block</td>\n      <td>1.0</td>\n      <td>NaN</td>\n      <td>NaN</td>\n      <td>CD</td>\n      <td>_AVB</td>\n      <td>Sinus node dysfunction, atrial and AV-conducti...</td>\n      <td>first degree AV block</td>\n      <td>NaN</td>\n      <td>MDC_ECG_RHY_AV_HEART_BLK_DEG_1</td>\n      <td>C111088</td>\n      <td>NaN</td>\n    </tr>\n    <tr>\n      <th>IVCD</th>\n      <td>non-specific intraventricular conduction distu...</td>\n      <td>1.0</td>\n      <td>NaN</td>\n      <td>NaN</td>\n      <td>CD</td>\n      <td>IVCD</td>\n      <td>Intraventricular and intra-atrial Conduction d...</td>\n      <td>non-specific intraventricular conduction distu...</td>\n      <td>107.0</td>\n      <td>MDC_ECG_BEAT_BLK_IVCD</td>\n      <td>C62271</td>\n      <td>D3-33000</td>\n    </tr>\n    <tr>\n      <th>ISCAL</th>\n      <td>ischemic in anterolateral leads</td>\n      <td>1.0</td>\n      <td>NaN</td>\n      <td>NaN</td>\n      <td>STTC</td>\n      <td>ISCA</td>\n      <td>ischemic ST-T changes</td>\n      <td>in anterolateral leads</td>\n      <td>NaN</td>\n      <td>NaN</td>\n      <td>NaN</td>\n      <td>NaN</td>\n    </tr>\n    <tr>\n      <th>CRBBB</th>\n      <td>complete right bundle branch block</td>\n      <td>1.0</td>\n      <td>NaN</td>\n      <td>NaN</td>\n      <td>CD</td>\n      <td>CRBBB</td>\n      <td>Intraventricular and intra-atrial Conduction d...</td>\n      <td>(complete) right bundle branch block</td>\n      <td>106.0</td>\n      <td>MDC_ECG_BEAT_RBB_BLK_COMP</td>\n      <td>C62270</td>\n      <td>D3-33110</td>\n    </tr>\n    <tr>\n      <th>CLBBB</th>\n      <td>complete left bundle branch block</td>\n      <td>1.0</td>\n      <td>NaN</td>\n      <td>NaN</td>\n      <td>CD</td>\n      <td>CLBBB</td>\n      <td>Intraventricular and intra-atrial Conduction d...</td>\n      <td>(complete) left bundle branch block</td>\n      <td>104.0</td>\n      <td>MDC_ECG_BEAT_LBB_BLK_COMP</td>\n      <td>C62269</td>\n      <td>D3-33120 or 122752</td>\n    </tr>\n    <tr>\n      <th>ILMI</th>\n      <td>inferolateral myocardial infarction</td>\n      <td>1.0</td>\n      <td>NaN</td>\n      <td>NaN</td>\n      <td>MI</td>\n      <td>IMI</td>\n      <td>Myocardial Infarction</td>\n      <td>inferolateral myocardial infarction</td>\n      <td>NaN</td>\n      <td>NaN</td>\n      <td>NaN</td>\n      <td>NaN</td>\n    </tr>\n    <tr>\n      <th>LAO/LAE</th>\n      <td>left atrial overload/enlargement</td>\n      <td>1.0</td>\n      <td>NaN</td>\n      <td>NaN</td>\n      <td>HYP</td>\n      <td>LAO/LAE</td>\n      <td>Atrial statements</td>\n      <td>left atrial overload/enlargement</td>\n      <td>140.0</td>\n      <td>NaN</td>\n      <td>NaN</td>\n      <td>NaN</td>\n    </tr>\n    <tr>\n      <th>AMI</th>\n      <td>anterior myocardial infarction</td>\n      <td>1.0</td>\n      <td>NaN</td>\n      <td>NaN</td>\n      <td>MI</td>\n      <td>AMI</td>\n      <td>Myocardial Infarction</td>\n      <td>anterior myocardial infarction</td>\n      <td>160.0</td>\n      <td>NaN</td>\n      <td>NaN</td>\n      <td>NaN</td>\n    </tr>\n    <tr>\n      <th>ALMI</th>\n      <td>anterolateral myocardial infarction</td>\n      <td>1.0</td>\n      <td>NaN</td>\n      <td>NaN</td>\n      <td>MI</td>\n      <td>AMI</td>\n      <td>Myocardial Infarction</td>\n      <td>anterolateral myocardial infarction</td>\n      <td>NaN</td>\n      <td>NaN</td>\n      <td>NaN</td>\n      <td>NaN</td>\n    </tr>\n  </tbody>\n</table>\n</div>"
     },
     "execution_count": 4,
     "metadata": {},
     "output_type": "execute_result"
    }
   ],
   "source": [
    "df.head(20)"
   ],
   "metadata": {
    "collapsed": false,
    "ExecuteTime": {
     "end_time": "2024-05-31T12:55:05.319321Z",
     "start_time": "2024-05-31T12:55:05.297223Z"
    }
   },
   "execution_count": 4
  },
  {
   "cell_type": "code",
   "outputs": [
    {
     "name": "stdout",
     "output_type": "stream",
     "text": [
      "<class 'pandas.core.frame.DataFrame'>\n",
      "Index: 44 entries, NDT to 2AVB\n",
      "Data columns (total 12 columns):\n",
      " #   Column                         Non-Null Count  Dtype  \n",
      "---  ------                         --------------  -----  \n",
      " 0   description                    44 non-null     object \n",
      " 1   diagnostic                     44 non-null     float64\n",
      " 2   form                           4 non-null      float64\n",
      " 3   rhythm                         0 non-null      float64\n",
      " 4   diagnostic_class               44 non-null     object \n",
      " 5   diagnostic_subclass            44 non-null     object \n",
      " 6   Statement Category             44 non-null     object \n",
      " 7   SCP-ECG Statement Description  44 non-null     object \n",
      " 8   AHA code                       22 non-null     float64\n",
      " 9   aECG REFID                     12 non-null     object \n",
      " 10  CDISC Code                     13 non-null     object \n",
      " 11  DICOM Code                     9 non-null      object \n",
      "dtypes: float64(4), object(8)\n",
      "memory usage: 5.5+ KB\n"
     ]
    }
   ],
   "source": [
    "df.info()"
   ],
   "metadata": {
    "collapsed": false,
    "ExecuteTime": {
     "end_time": "2024-05-31T12:55:05.333644Z",
     "start_time": "2024-05-31T12:55:05.321284Z"
    }
   },
   "execution_count": 5
  },
  {
   "cell_type": "markdown",
   "source": [
    "### Exploration of the Labels"
   ],
   "metadata": {
    "collapsed": false
   }
  },
  {
   "cell_type": "code",
   "outputs": [
    {
     "name": "stdout",
     "output_type": "stream",
     "text": [
      "<class 'pandas.core.frame.DataFrame'>\n",
      "Index: 21799 entries, 1 to 21837\n",
      "Data columns (total 28 columns):\n",
      " #   Column                        Non-Null Count  Dtype  \n",
      "---  ------                        --------------  -----  \n",
      " 0   patient_id                    21799 non-null  float64\n",
      " 1   age                           21799 non-null  float64\n",
      " 2   sex                           21799 non-null  int64  \n",
      " 3   height                        6974 non-null   float64\n",
      " 4   weight                        9421 non-null   float64\n",
      " 5   nurse                         20326 non-null  float64\n",
      " 6   site                          21782 non-null  float64\n",
      " 7   device                        21799 non-null  object \n",
      " 8   recording_date                21799 non-null  object \n",
      " 9   report                        21799 non-null  object \n",
      " 10  scp_codes                     21799 non-null  object \n",
      " 11  heart_axis                    13331 non-null  object \n",
      " 12  infarction_stadium1           5612 non-null   object \n",
      " 13  infarction_stadium2           103 non-null    object \n",
      " 14  validated_by                  12421 non-null  float64\n",
      " 15  second_opinion                21799 non-null  bool   \n",
      " 16  initial_autogenerated_report  21799 non-null  bool   \n",
      " 17  validated_by_human            21799 non-null  bool   \n",
      " 18  baseline_drift                1598 non-null   object \n",
      " 19  static_noise                  3260 non-null   object \n",
      " 20  burst_noise                   613 non-null    object \n",
      " 21  electrodes_problems           30 non-null     object \n",
      " 22  extra_beats                   1949 non-null   object \n",
      " 23  pacemaker                     291 non-null    object \n",
      " 24  strat_fold                    21799 non-null  int64  \n",
      " 25  filename_lr                   21799 non-null  object \n",
      " 26  filename_hr                   21799 non-null  object \n",
      " 27  diagnostic_superclass         21799 non-null  object \n",
      "dtypes: bool(3), float64(7), int64(2), object(16)\n",
      "memory usage: 4.4+ MB\n"
     ]
    }
   ],
   "source": [
    "Y.info()"
   ],
   "metadata": {
    "collapsed": false,
    "ExecuteTime": {
     "end_time": "2024-05-31T12:55:05.369283Z",
     "start_time": "2024-05-31T12:55:05.334822Z"
    }
   },
   "execution_count": 6
  },
  {
   "cell_type": "code",
   "outputs": [
    {
     "data": {
      "text/plain": "        patient_id   age  sex  height  weight  nurse  site     device  \\\necg_id                                                                  \n1          15709.0  56.0    1     NaN    63.0    2.0   0.0  CS-12   E   \n2          13243.0  19.0    0     NaN    70.0    2.0   0.0  CS-12   E   \n3          20372.0  37.0    1     NaN    69.0    2.0   0.0  CS-12   E   \n4          17014.0  24.0    0     NaN    82.0    2.0   0.0  CS-12   E   \n5          17448.0  19.0    1     NaN    70.0    2.0   0.0  CS-12   E   \n\n             recording_date                                  report  ...  \\\necg_id                                                               ...   \n1       1984-11-09 09:17:34  sinusrhythmus periphere niederspannung  ...   \n2       1984-11-14 12:55:37     sinusbradykardie sonst normales ekg  ...   \n3       1984-11-15 12:49:10              sinusrhythmus normales ekg  ...   \n4       1984-11-15 13:44:57              sinusrhythmus normales ekg  ...   \n5       1984-11-17 10:43:15              sinusrhythmus normales ekg  ...   \n\n        baseline_drift static_noise burst_noise electrodes_problems  \\\necg_id                                                                \n1                  NaN    , I-V1,           NaN                 NaN   \n2                  NaN          NaN         NaN                 NaN   \n3                  NaN          NaN         NaN                 NaN   \n4         , II,III,AVF          NaN         NaN                 NaN   \n5        , III,AVR,AVF          NaN         NaN                 NaN   \n\n        extra_beats  pacemaker  strat_fold                filename_lr  \\\necg_id                                                                  \n1               NaN        NaN           3  records100/00000/00001_lr   \n2               NaN        NaN           2  records100/00000/00002_lr   \n3               NaN        NaN           5  records100/00000/00003_lr   \n4               NaN        NaN           3  records100/00000/00004_lr   \n5               NaN        NaN           4  records100/00000/00005_lr   \n\n                      filename_hr diagnostic_superclass  \necg_id                                                   \n1       records500/00000/00001_hr                [NORM]  \n2       records500/00000/00002_hr                [NORM]  \n3       records500/00000/00003_hr                [NORM]  \n4       records500/00000/00004_hr                [NORM]  \n5       records500/00000/00005_hr                [NORM]  \n\n[5 rows x 28 columns]",
      "text/html": "<div>\n<style scoped>\n    .dataframe tbody tr th:only-of-type {\n        vertical-align: middle;\n    }\n\n    .dataframe tbody tr th {\n        vertical-align: top;\n    }\n\n    .dataframe thead th {\n        text-align: right;\n    }\n</style>\n<table border=\"1\" class=\"dataframe\">\n  <thead>\n    <tr style=\"text-align: right;\">\n      <th></th>\n      <th>patient_id</th>\n      <th>age</th>\n      <th>sex</th>\n      <th>height</th>\n      <th>weight</th>\n      <th>nurse</th>\n      <th>site</th>\n      <th>device</th>\n      <th>recording_date</th>\n      <th>report</th>\n      <th>...</th>\n      <th>baseline_drift</th>\n      <th>static_noise</th>\n      <th>burst_noise</th>\n      <th>electrodes_problems</th>\n      <th>extra_beats</th>\n      <th>pacemaker</th>\n      <th>strat_fold</th>\n      <th>filename_lr</th>\n      <th>filename_hr</th>\n      <th>diagnostic_superclass</th>\n    </tr>\n    <tr>\n      <th>ecg_id</th>\n      <th></th>\n      <th></th>\n      <th></th>\n      <th></th>\n      <th></th>\n      <th></th>\n      <th></th>\n      <th></th>\n      <th></th>\n      <th></th>\n      <th></th>\n      <th></th>\n      <th></th>\n      <th></th>\n      <th></th>\n      <th></th>\n      <th></th>\n      <th></th>\n      <th></th>\n      <th></th>\n      <th></th>\n    </tr>\n  </thead>\n  <tbody>\n    <tr>\n      <th>1</th>\n      <td>15709.0</td>\n      <td>56.0</td>\n      <td>1</td>\n      <td>NaN</td>\n      <td>63.0</td>\n      <td>2.0</td>\n      <td>0.0</td>\n      <td>CS-12   E</td>\n      <td>1984-11-09 09:17:34</td>\n      <td>sinusrhythmus periphere niederspannung</td>\n      <td>...</td>\n      <td>NaN</td>\n      <td>, I-V1,</td>\n      <td>NaN</td>\n      <td>NaN</td>\n      <td>NaN</td>\n      <td>NaN</td>\n      <td>3</td>\n      <td>records100/00000/00001_lr</td>\n      <td>records500/00000/00001_hr</td>\n      <td>[NORM]</td>\n    </tr>\n    <tr>\n      <th>2</th>\n      <td>13243.0</td>\n      <td>19.0</td>\n      <td>0</td>\n      <td>NaN</td>\n      <td>70.0</td>\n      <td>2.0</td>\n      <td>0.0</td>\n      <td>CS-12   E</td>\n      <td>1984-11-14 12:55:37</td>\n      <td>sinusbradykardie sonst normales ekg</td>\n      <td>...</td>\n      <td>NaN</td>\n      <td>NaN</td>\n      <td>NaN</td>\n      <td>NaN</td>\n      <td>NaN</td>\n      <td>NaN</td>\n      <td>2</td>\n      <td>records100/00000/00002_lr</td>\n      <td>records500/00000/00002_hr</td>\n      <td>[NORM]</td>\n    </tr>\n    <tr>\n      <th>3</th>\n      <td>20372.0</td>\n      <td>37.0</td>\n      <td>1</td>\n      <td>NaN</td>\n      <td>69.0</td>\n      <td>2.0</td>\n      <td>0.0</td>\n      <td>CS-12   E</td>\n      <td>1984-11-15 12:49:10</td>\n      <td>sinusrhythmus normales ekg</td>\n      <td>...</td>\n      <td>NaN</td>\n      <td>NaN</td>\n      <td>NaN</td>\n      <td>NaN</td>\n      <td>NaN</td>\n      <td>NaN</td>\n      <td>5</td>\n      <td>records100/00000/00003_lr</td>\n      <td>records500/00000/00003_hr</td>\n      <td>[NORM]</td>\n    </tr>\n    <tr>\n      <th>4</th>\n      <td>17014.0</td>\n      <td>24.0</td>\n      <td>0</td>\n      <td>NaN</td>\n      <td>82.0</td>\n      <td>2.0</td>\n      <td>0.0</td>\n      <td>CS-12   E</td>\n      <td>1984-11-15 13:44:57</td>\n      <td>sinusrhythmus normales ekg</td>\n      <td>...</td>\n      <td>, II,III,AVF</td>\n      <td>NaN</td>\n      <td>NaN</td>\n      <td>NaN</td>\n      <td>NaN</td>\n      <td>NaN</td>\n      <td>3</td>\n      <td>records100/00000/00004_lr</td>\n      <td>records500/00000/00004_hr</td>\n      <td>[NORM]</td>\n    </tr>\n    <tr>\n      <th>5</th>\n      <td>17448.0</td>\n      <td>19.0</td>\n      <td>1</td>\n      <td>NaN</td>\n      <td>70.0</td>\n      <td>2.0</td>\n      <td>0.0</td>\n      <td>CS-12   E</td>\n      <td>1984-11-17 10:43:15</td>\n      <td>sinusrhythmus normales ekg</td>\n      <td>...</td>\n      <td>, III,AVR,AVF</td>\n      <td>NaN</td>\n      <td>NaN</td>\n      <td>NaN</td>\n      <td>NaN</td>\n      <td>NaN</td>\n      <td>4</td>\n      <td>records100/00000/00005_lr</td>\n      <td>records500/00000/00005_hr</td>\n      <td>[NORM]</td>\n    </tr>\n  </tbody>\n</table>\n<p>5 rows × 28 columns</p>\n</div>"
     },
     "execution_count": 7,
     "metadata": {},
     "output_type": "execute_result"
    }
   ],
   "source": [
    "Y.head()"
   ],
   "metadata": {
    "collapsed": false,
    "ExecuteTime": {
     "end_time": "2024-05-31T12:55:05.377764Z",
     "start_time": "2024-05-31T12:55:05.369996Z"
    }
   },
   "execution_count": 7
  },
  {
   "cell_type": "code",
   "outputs": [
    {
     "data": {
      "text/plain": "diagnostic_superclass\n[NORM]                 9069\n[MI]                   2532\n[STTC]                 2400\n[CD]                   1708\n[MI, CD]               1297\n[HYP, STTC]             608\n[STTC, MI]              599\n[HYP]                   535\n[STTC, CD]              471\n[]                      411\n[NORM, CD]              407\n[HYP, MI, STTC]         340\n[HYP, CD]               300\n[STTC, MI, CD]          223\n[HYP, MI]               183\n[STTC, HYP]             173\n[HYP, STTC, CD]         156\n[HYP, MI, STTC, CD]     141\n[HYP, MI, CD]           117\n[STTC, HYP, CD]          55\n[STTC, NORM]             28\n[STTC, MI, HYP]          21\n[STTC, MI, HYP, CD]      15\n[STTC, NORM, CD]          5\n[HYP, NORM, CD]           2\n[HYP, NORM]               2\n[HYP, NORM, MI, CD]       1\nName: count, dtype: int64"
     },
     "execution_count": 8,
     "metadata": {},
     "output_type": "execute_result"
    }
   ],
   "source": [
    "# Check the shape of the data and labels distributions\n",
    "Y['diagnostic_superclass'].value_counts()"
   ],
   "metadata": {
    "collapsed": false,
    "ExecuteTime": {
     "end_time": "2024-05-31T12:55:05.386227Z",
     "start_time": "2024-05-31T12:55:05.378298Z"
    }
   },
   "execution_count": 8
  },
  {
   "cell_type": "code",
   "outputs": [
    {
     "data": {
      "text/plain": "0"
     },
     "execution_count": 9,
     "metadata": {},
     "output_type": "execute_result"
    }
   ],
   "source": [
    "# check the missing values in the labels 'diagnostic_superclass'\n",
    "Y['diagnostic_superclass'].isnull().sum()"
   ],
   "metadata": {
    "collapsed": false,
    "ExecuteTime": {
     "end_time": "2024-05-31T12:55:05.389907Z",
     "start_time": "2024-05-31T12:55:05.387036Z"
    }
   },
   "execution_count": 9
  },
  {
   "cell_type": "markdown",
   "source": [
    "#### Main points\n",
    "- The dataset consists of 21837 ECG recordings, each with 12 leads.\n",
    "- The ECGs are sampled at 100 Hz, with a duration of 10 seconds.\n",
    "- The dataset includes 5 diagnostic superclass categories.\n",
    "- the dataset is imbalanced, with some classes having a large number of samples, while others have very few.\n",
    "- there are 411 missing values in the diagnostic superclass categories, which are represented as NaNs.\n"
   ],
   "metadata": {
    "collapsed": false
   }
  },
  {
   "cell_type": "markdown",
   "source": [
    "### Cardiac Diagnoses\n",
    "\n",
    "#### NORM (Normal ECG)\n",
    "- **Description**: This diagnosis indicates a normal electrocardiogram (ECG), meaning there are no significant abnormalities in the heart's electrical activity. The heart rhythm and waveforms fall within the typical range for a healthy individual.\n",
    "\n",
    "#### MI (Myocardial Infarction)\n",
    "- **Description**: Myocardial Infarction, commonly known as a heart attack, is characterized by the interruption of blood flow to a part of the heart, causing damage to the heart muscle. On an ECG, it may present as ST elevation, T wave inversion, or the development of Q waves, among other changes.\n",
    "\n",
    "#### STTC (ST/T Change)\n",
    "- **Description**: ST/T changes refer to abnormalities in the ST segment and T wave of the ECG. These changes can indicate various conditions, such as ischemia (reduced blood flow to the heart), electrolyte imbalances, or other cardiac pathologies. The specific nature of the change provides clues about the underlying condition.\n",
    "\n",
    "#### CD (Conduction Disturbance)\n",
    "- **Description**: Conduction disturbances involve abnormalities in the electrical conduction system of the heart, which can affect the timing and coordination of heartbeats. Examples include bundle branch blocks, atrioventricular (AV) blocks, and other forms of heart block. These are reflected on the ECG as altered intervals and waveforms.\n",
    "\n",
    "#### HYP (Hypertrophy)\n",
    "- **Description**: Hypertrophy refers to the thickening of the heart muscle, typically the result of increased workload or pressure. It is commonly seen in conditions such as hypertension or valvular heart disease. On an ECG, hypertrophy may present as increased voltage of QRS complexes, prolonged QRS duration, and changes in the ST segment and T waves.\n",
    "\n",
    "This structured format categorizes the diagnoses based on their unique identifier, abbreviation, and a detailed description of each condition."
   ],
   "metadata": {
    "collapsed": false
   }
  },
  {
   "cell_type": "markdown",
   "source": [
    "#### According to the dataset documentation - there are 410 samples for which no diagnostic statement is given, which are mainly pacemaker ECGs. These samples are not included in the diagnostic superclass categories. So for the purpose of this project, first we will explore the pacemaker column to understand the distribution of these samples."
   ],
   "metadata": {
    "collapsed": false
   }
  },
  {
   "cell_type": "code",
   "outputs": [
    {
     "data": {
      "text/plain": "21508"
     },
     "execution_count": 10,
     "metadata": {},
     "output_type": "execute_result"
    }
   ],
   "source": [
    "Y['pacemaker'].isnull().sum()"
   ],
   "metadata": {
    "collapsed": false,
    "ExecuteTime": {
     "end_time": "2024-05-31T12:55:05.393625Z",
     "start_time": "2024-05-31T12:55:05.390884Z"
    }
   },
   "execution_count": 10
  },
  {
   "cell_type": "code",
   "outputs": [
    {
     "data": {
      "text/plain": "pacemaker\nja, pacemaker    285\nja, nan            3\nPACE????, nan      2\n?, nan             1\nName: count, dtype: int64"
     },
     "execution_count": 11,
     "metadata": {},
     "output_type": "execute_result"
    }
   ],
   "source": [
    "Y['pacemaker'].value_counts()"
   ],
   "metadata": {
    "collapsed": false,
    "ExecuteTime": {
     "end_time": "2024-05-31T12:55:05.399759Z",
     "start_time": "2024-05-31T12:55:05.396672Z"
    }
   },
   "execution_count": 11
  },
  {
   "cell_type": "code",
   "outputs": [
    {
     "data": {
      "text/plain": "pacemaker\nja, pacemaker    277\nName: count, dtype: int64"
     },
     "execution_count": 12,
     "metadata": {},
     "output_type": "execute_result"
    }
   ],
   "source": [
    "# check the missing values in the labels 'diagnostic_superclass' and respective 'pacemaker' values\n",
    "Y[Y['diagnostic_superclass'].apply(lambda x: len(x)) == 0]['pacemaker'].value_counts()"
   ],
   "metadata": {
    "collapsed": false,
    "ExecuteTime": {
     "end_time": "2024-05-31T12:55:05.409948Z",
     "start_time": "2024-05-31T12:55:05.400327Z"
    }
   },
   "execution_count": 12
  },
  {
   "cell_type": "markdown",
   "source": [
    "#### So concideering the above inverstigation only 277 out of 411 missing values in the diagnostic superclass categories are confirmed to be pacemaker ECGs. Other 134 samples of NAN  diagnostic_superclass has no pacemaker information. "
   ],
   "metadata": {
    "collapsed": false
   }
  },
  {
   "cell_type": "code",
   "outputs": [
    {
     "data": {
      "text/plain": "strat_fold\n8     44\n6     44\n4     44\n2     43\n7     42\n3     42\n10    40\n5     39\n9     37\n1     36\nName: count, dtype: int64"
     },
     "execution_count": 13,
     "metadata": {},
     "output_type": "execute_result"
    }
   ],
   "source": [
    "# Lets check the distribution of the missinh values in the diagnostic superclass througout the folds\n",
    "Y[Y['diagnostic_superclass'].apply(lambda x: len(x)) == 0]['strat_fold'].value_counts()"
   ],
   "metadata": {
    "collapsed": false,
    "ExecuteTime": {
     "end_time": "2024-05-31T12:55:05.419119Z",
     "start_time": "2024-05-31T12:55:05.410511Z"
    }
   },
   "execution_count": 13
  },
  {
   "cell_type": "markdown",
   "source": [
    "#### The missing values in the diagnostic superclass are equally distributed across all folds, so we can simply remove all the missing values without worrying about the fold distribution.\n",
    "\n",
    "### Final conclusion: We will remove the samples with missing values (411) in the diagnostic superclass categories from the dataset."
   ],
   "metadata": {
    "collapsed": false
   }
  },
  {
   "cell_type": "markdown",
   "source": [
    "### Feature Engineering"
   ],
   "metadata": {
    "collapsed": false
   }
  },
  {
   "cell_type": "markdown",
   "source": [
    "#### Create a new column for the superclass aggregation if 'diagnostic_superclass' has MI in list it will be MI, all other classes will be 'NORMAL' to simplify the classification problem."
   ],
   "metadata": {
    "collapsed": false
   }
  },
  {
   "cell_type": "code",
   "outputs": [],
   "source": [
    "# create new column for the superclass aggregation if 'diagnostic_superclass' has MI in list it will be MI, all other classes will be 'NORMAL' \n",
    "Y['diagnostic_binary'] = Y['diagnostic_superclass'].apply(lambda x: 'MI' if 'MI' in x else 'NORMAL')\n",
    "    "
   ],
   "metadata": {
    "collapsed": false,
    "ExecuteTime": {
     "end_time": "2024-05-31T12:55:05.423206Z",
     "start_time": "2024-05-31T12:55:05.419644Z"
    }
   },
   "execution_count": 14
  },
  {
   "cell_type": "code",
   "outputs": [
    {
     "data": {
      "text/plain": "diagnostic_binary\nNORMAL    16330\nMI         5469\nName: count, dtype: int64"
     },
     "execution_count": 15,
     "metadata": {},
     "output_type": "execute_result"
    }
   ],
   "source": [
    "Y['diagnostic_binary'].value_counts()"
   ],
   "metadata": {
    "collapsed": false,
    "ExecuteTime": {
     "end_time": "2024-05-31T12:55:05.427290Z",
     "start_time": "2024-05-31T12:55:05.423940Z"
    }
   },
   "execution_count": 15
  },
  {
   "cell_type": "code",
   "outputs": [
    {
     "data": {
      "text/plain": "diagnostic_superclass\n1    16244\n2     4068\n3      919\n0      411\n4      157\nName: count, dtype: int64"
     },
     "execution_count": 16,
     "metadata": {},
     "output_type": "execute_result"
    }
   ],
   "source": [
    "# Check the hiden missing values in the labels 'diagnostic_superclass' which are represented as an empty list\n",
    "Y['diagnostic_superclass'].apply(lambda x: len(x)).value_counts()"
   ],
   "metadata": {
    "collapsed": false,
    "ExecuteTime": {
     "end_time": "2024-05-31T12:55:05.434204Z",
     "start_time": "2024-05-31T12:55:05.427825Z"
    }
   },
   "execution_count": 16
  },
  {
   "cell_type": "code",
   "outputs": [],
   "source": [
    "# drop the rows with missing values in the labels 'diagnostic_superclass'\n",
    "Y_clean = Y[Y['diagnostic_superclass'].apply(lambda x: len(x)) > 0]"
   ],
   "metadata": {
    "collapsed": false,
    "ExecuteTime": {
     "end_time": "2024-05-31T12:55:05.443667Z",
     "start_time": "2024-05-31T12:55:05.434736Z"
    }
   },
   "execution_count": 17
  },
  {
   "cell_type": "code",
   "outputs": [
    {
     "data": {
      "text/plain": "diagnostic_superclass\n1    16244\n2     4068\n3      919\n4      157\nName: count, dtype: int64"
     },
     "execution_count": 18,
     "metadata": {},
     "output_type": "execute_result"
    }
   ],
   "source": [
    "# Check the shape of the data and labels distributions\n",
    "Y_clean['diagnostic_superclass'].apply(lambda x: len(x)).value_counts()"
   ],
   "metadata": {
    "collapsed": false,
    "ExecuteTime": {
     "end_time": "2024-05-31T12:55:05.449918Z",
     "start_time": "2024-05-31T12:55:05.444211Z"
    }
   },
   "execution_count": 18
  },
  {
   "cell_type": "code",
   "outputs": [
    {
     "name": "stdout",
     "output_type": "stream",
     "text": [
      "<class 'pandas.core.frame.DataFrame'>\n",
      "Index: 21388 entries, 1 to 21837\n",
      "Data columns (total 29 columns):\n",
      " #   Column                        Non-Null Count  Dtype  \n",
      "---  ------                        --------------  -----  \n",
      " 0   patient_id                    21388 non-null  float64\n",
      " 1   age                           21388 non-null  float64\n",
      " 2   sex                           21388 non-null  int64  \n",
      " 3   height                        6918 non-null   float64\n",
      " 4   weight                        9366 non-null   float64\n",
      " 5   nurse                         19949 non-null  float64\n",
      " 6   site                          21372 non-null  float64\n",
      " 7   device                        21388 non-null  object \n",
      " 8   recording_date                21388 non-null  object \n",
      " 9   report                        21388 non-null  object \n",
      " 10  scp_codes                     21388 non-null  object \n",
      " 11  heart_axis                    13228 non-null  object \n",
      " 12  infarction_stadium1           5600 non-null   object \n",
      " 13  infarction_stadium2           103 non-null    object \n",
      " 14  validated_by                  12296 non-null  float64\n",
      " 15  second_opinion                21388 non-null  bool   \n",
      " 16  initial_autogenerated_report  21388 non-null  bool   \n",
      " 17  validated_by_human            21388 non-null  bool   \n",
      " 18  baseline_drift                1579 non-null   object \n",
      " 19  static_noise                  3206 non-null   object \n",
      " 20  burst_noise                   581 non-null    object \n",
      " 21  electrodes_problems           28 non-null     object \n",
      " 22  extra_beats                   1882 non-null   object \n",
      " 23  pacemaker                     14 non-null     object \n",
      " 24  strat_fold                    21388 non-null  int64  \n",
      " 25  filename_lr                   21388 non-null  object \n",
      " 26  filename_hr                   21388 non-null  object \n",
      " 27  diagnostic_superclass         21388 non-null  object \n",
      " 28  diagnostic_binary             21388 non-null  object \n",
      "dtypes: bool(3), float64(7), int64(2), object(17)\n",
      "memory usage: 4.5+ MB\n"
     ]
    }
   ],
   "source": [
    "Y_clean.info()"
   ],
   "metadata": {
    "collapsed": false,
    "ExecuteTime": {
     "end_time": "2024-05-31T12:55:05.461045Z",
     "start_time": "2024-05-31T12:55:05.450588Z"
    }
   },
   "execution_count": 19
  },
  {
   "cell_type": "code",
   "outputs": [],
   "source": [
    "# drop columns that are not needed\n",
    "Y_clean = Y_clean.drop(['diagnostic_superclass'], axis=1)"
   ],
   "metadata": {
    "collapsed": false,
    "ExecuteTime": {
     "end_time": "2024-05-31T12:55:05.467007Z",
     "start_time": "2024-05-31T12:55:05.461674Z"
    }
   },
   "execution_count": 20
  },
  {
   "cell_type": "markdown",
   "source": [
    "### Data Splitting"
   ],
   "metadata": {
    "collapsed": false
   }
  },
  {
   "cell_type": "code",
   "outputs": [],
   "source": [
    "def get_train_test_split(X, Y, test_fold=10, validation=False):\n",
    "    \"\"\"\n",
    "    Splits the data into training, test, and optionally validation sets based on the stratification fold.\n",
    "    but for simplisity we will use diagnostic_binary as the target variable.\n",
    "    \"\"\"\n",
    "    validation_folds = [8, 9]\n",
    "    # From the documentation of the dataset, they recommend for the test fold to be 10 and 8 and 9 as validation.\n",
    "\n",
    "    X_train = X[np.where((Y.strat_fold != test_fold) & (~Y.strat_fold.isin(validation_folds)))]\n",
    "    y_train = Y[(Y.strat_fold != test_fold) & (~Y.strat_fold.isin(validation_folds))].diagnostic_binary\n",
    "\n",
    "    X_test = X[np.where(Y.strat_fold == test_fold)]\n",
    "    y_test = Y[Y.strat_fold == test_fold].diagnostic_binary\n",
    "\n",
    "    if validation:\n",
    "        X_val = X[np.where(Y.strat_fold.isin(validation_folds))]\n",
    "        y_val = Y[Y.strat_fold.isin(validation_folds)].diagnostic_binary\n",
    "\n",
    "        return X_train, X_test, y_train, y_test, X_val, y_val\n",
    "    else:\n",
    "        return X_train, X_test, y_train, y_test"
   ],
   "metadata": {
    "collapsed": false,
    "ExecuteTime": {
     "end_time": "2024-05-31T12:55:05.470271Z",
     "start_time": "2024-05-31T12:55:05.467659Z"
    }
   },
   "execution_count": 21
  },
  {
   "cell_type": "code",
   "execution_count": 22,
   "metadata": {
    "ExecuteTime": {
     "end_time": "2024-05-31T12:55:10.990135Z",
     "start_time": "2024-05-31T12:55:05.470817Z"
    }
   },
   "outputs": [
    {
     "name": "stdout",
     "output_type": "stream",
     "text": [
      "X_train shape: (14955, 1000, 12)\n",
      "X_test shape: (2158, 1000, 12)\n",
      "y_train shape: (14955,)\n",
      "y_test shape: (2158,)\n",
      "X_val shape: (4275, 1000, 12)\n",
      "y_val shape: (4275,)\n"
     ]
    }
   ],
   "source": [
    "# If you also want to get validation splits\n",
    "X_train, X_test, y_train, y_test, X_val, y_val = get_train_test_split(X, Y_clean, test_fold=10, validation=True)\n",
    "\n",
    "# Print shapes of the datasets including validation\n",
    "print(\"X_train shape:\", X_train.shape)\n",
    "print(\"X_test shape:\", X_test.shape)\n",
    "print(\"y_train shape:\", y_train.shape)\n",
    "print(\"y_test shape:\", y_test.shape)\n",
    "print(\"X_val shape:\", X_val.shape)\n",
    "print(\"y_val shape:\", y_val.shape)\n"
   ]
  },
  {
   "cell_type": "code",
   "execution_count": 23,
   "metadata": {
    "ExecuteTime": {
     "end_time": "2024-05-31T12:55:11.000078Z",
     "start_time": "2024-05-31T12:55:10.993034Z"
    }
   },
   "outputs": [
    {
     "data": {
      "text/plain": "diagnostic_binary\nNORMAL    1608\nMI         550\nName: count, dtype: int64"
     },
     "execution_count": 23,
     "metadata": {},
     "output_type": "execute_result"
    }
   ],
   "source": [
    "y_test.value_counts()"
   ]
  },
  {
   "cell_type": "code",
   "execution_count": 24,
   "metadata": {
    "ExecuteTime": {
     "end_time": "2024-05-31T12:55:11.008597Z",
     "start_time": "2024-05-31T12:55:11.002071Z"
    }
   },
   "outputs": [
    {
     "data": {
      "text/plain": "(1000, 12)"
     },
     "execution_count": 24,
     "metadata": {},
     "output_type": "execute_result"
    }
   ],
   "source": [
    "X_train[0].shape"
   ]
  },
  {
   "cell_type": "code",
   "outputs": [],
   "source": [
    "# Reshape the labels to be compatible with the neural network\n",
    "y_train_oh = pd.get_dummies(y_train)\n",
    "y_val_oh = pd.get_dummies(y_val)\n",
    "y_test_oh = pd.get_dummies(y_test)"
   ],
   "metadata": {
    "collapsed": false,
    "ExecuteTime": {
     "end_time": "2024-05-31T12:55:11.044993Z",
     "start_time": "2024-05-31T12:55:11.009132Z"
    }
   },
   "execution_count": 25
  },
  {
   "cell_type": "code",
   "outputs": [],
   "source": [
    "# save the train, test, and validation sets to the folder data for future use\n",
    "np.save('data/X_train.npy', X_train)\n",
    "np.save('data/X_test.npy', X_test)\n",
    "np.save('data/y_train.npy', y_train)\n",
    "# and y as pandas DataFrame\n",
    "y_train.to_csv('data/y_train.csv', index=False)\n",
    "y_val.to_csv('data/y_val.csv', index=False)\n",
    "y_test.to_csv('data/y_test.csv', index=False)"
   ],
   "metadata": {
    "collapsed": false,
    "ExecuteTime": {
     "end_time": "2024-05-31T16:27:07.857987Z",
     "start_time": "2024-05-31T16:26:58.463231Z"
    }
   },
   "execution_count": 54
  },
  {
   "cell_type": "markdown",
   "source": [
    "### Simple Neural Network"
   ],
   "metadata": {
    "collapsed": false
   }
  },
  {
   "cell_type": "code",
   "outputs": [
    {
     "data": {
      "text/plain": "((1000, 12), 2)"
     },
     "execution_count": 26,
     "metadata": {},
     "output_type": "execute_result"
    }
   ],
   "source": [
    "# get the input shape and number of classes\n",
    "input_shape = X_train.shape[1:]\n",
    "num_classes = y_train_oh.shape[1]\n",
    "input_shape, num_classes"
   ],
   "metadata": {
    "collapsed": false,
    "ExecuteTime": {
     "end_time": "2024-05-31T12:55:11.054788Z",
     "start_time": "2024-05-31T12:55:11.047135Z"
    }
   },
   "execution_count": 26
  },
  {
   "cell_type": "code",
   "outputs": [
    {
     "name": "stderr",
     "output_type": "stream",
     "text": [
      "/Users/gala/PycharmProjects/Saturdays_FP/disease-prediction/dis/lib/python3.10/site-packages/keras/src/layers/reshaping/flatten.py:37: UserWarning: Do not pass an `input_shape`/`input_dim` argument to a layer. When using Sequential models, prefer using an `Input(shape)` object as the first layer in the model instead.\n",
      "  super().__init__(**kwargs)\n"
     ]
    },
    {
     "data": {
      "text/plain": "\u001B[1mModel: \"sequential\"\u001B[0m\n",
      "text/html": "<pre style=\"white-space:pre;overflow-x:auto;line-height:normal;font-family:Menlo,'DejaVu Sans Mono',consolas,'Courier New',monospace\"><span style=\"font-weight: bold\">Model: \"sequential\"</span>\n</pre>\n"
     },
     "metadata": {},
     "output_type": "display_data"
    },
    {
     "data": {
      "text/plain": "┏━━━━━━━━━━━━━━━━━━━━━━━━━━━━━━━━━┳━━━━━━━━━━━━━━━━━━━━━━━━┳━━━━━━━━━━━━━━━┓\n┃\u001B[1m \u001B[0m\u001B[1mLayer (type)                   \u001B[0m\u001B[1m \u001B[0m┃\u001B[1m \u001B[0m\u001B[1mOutput Shape          \u001B[0m\u001B[1m \u001B[0m┃\u001B[1m \u001B[0m\u001B[1m      Param #\u001B[0m\u001B[1m \u001B[0m┃\n┡━━━━━━━━━━━━━━━━━━━━━━━━━━━━━━━━━╇━━━━━━━━━━━━━━━━━━━━━━━━╇━━━━━━━━━━━━━━━┩\n│ flatten (\u001B[38;5;33mFlatten\u001B[0m)               │ (\u001B[38;5;45mNone\u001B[0m, \u001B[38;5;34m12000\u001B[0m)          │             \u001B[38;5;34m0\u001B[0m │\n├─────────────────────────────────┼────────────────────────┼───────────────┤\n│ dense (\u001B[38;5;33mDense\u001B[0m)                   │ (\u001B[38;5;45mNone\u001B[0m, \u001B[38;5;34m128\u001B[0m)            │     \u001B[38;5;34m1,536,128\u001B[0m │\n├─────────────────────────────────┼────────────────────────┼───────────────┤\n│ dense_1 (\u001B[38;5;33mDense\u001B[0m)                 │ (\u001B[38;5;45mNone\u001B[0m, \u001B[38;5;34m256\u001B[0m)            │        \u001B[38;5;34m33,024\u001B[0m │\n├─────────────────────────────────┼────────────────────────┼───────────────┤\n│ dropout (\u001B[38;5;33mDropout\u001B[0m)               │ (\u001B[38;5;45mNone\u001B[0m, \u001B[38;5;34m256\u001B[0m)            │             \u001B[38;5;34m0\u001B[0m │\n├─────────────────────────────────┼────────────────────────┼───────────────┤\n│ dense_2 (\u001B[38;5;33mDense\u001B[0m)                 │ (\u001B[38;5;45mNone\u001B[0m, \u001B[38;5;34m64\u001B[0m)             │        \u001B[38;5;34m16,448\u001B[0m │\n├─────────────────────────────────┼────────────────────────┼───────────────┤\n│ dropout_1 (\u001B[38;5;33mDropout\u001B[0m)             │ (\u001B[38;5;45mNone\u001B[0m, \u001B[38;5;34m64\u001B[0m)             │             \u001B[38;5;34m0\u001B[0m │\n├─────────────────────────────────┼────────────────────────┼───────────────┤\n│ dense_3 (\u001B[38;5;33mDense\u001B[0m)                 │ (\u001B[38;5;45mNone\u001B[0m, \u001B[38;5;34m32\u001B[0m)             │         \u001B[38;5;34m2,080\u001B[0m │\n├─────────────────────────────────┼────────────────────────┼───────────────┤\n│ dense_4 (\u001B[38;5;33mDense\u001B[0m)                 │ (\u001B[38;5;45mNone\u001B[0m, \u001B[38;5;34m2\u001B[0m)              │            \u001B[38;5;34m66\u001B[0m │\n└─────────────────────────────────┴────────────────────────┴───────────────┘\n",
      "text/html": "<pre style=\"white-space:pre;overflow-x:auto;line-height:normal;font-family:Menlo,'DejaVu Sans Mono',consolas,'Courier New',monospace\">┏━━━━━━━━━━━━━━━━━━━━━━━━━━━━━━━━━┳━━━━━━━━━━━━━━━━━━━━━━━━┳━━━━━━━━━━━━━━━┓\n┃<span style=\"font-weight: bold\"> Layer (type)                    </span>┃<span style=\"font-weight: bold\"> Output Shape           </span>┃<span style=\"font-weight: bold\">       Param # </span>┃\n┡━━━━━━━━━━━━━━━━━━━━━━━━━━━━━━━━━╇━━━━━━━━━━━━━━━━━━━━━━━━╇━━━━━━━━━━━━━━━┩\n│ flatten (<span style=\"color: #0087ff; text-decoration-color: #0087ff\">Flatten</span>)               │ (<span style=\"color: #00d7ff; text-decoration-color: #00d7ff\">None</span>, <span style=\"color: #00af00; text-decoration-color: #00af00\">12000</span>)          │             <span style=\"color: #00af00; text-decoration-color: #00af00\">0</span> │\n├─────────────────────────────────┼────────────────────────┼───────────────┤\n│ dense (<span style=\"color: #0087ff; text-decoration-color: #0087ff\">Dense</span>)                   │ (<span style=\"color: #00d7ff; text-decoration-color: #00d7ff\">None</span>, <span style=\"color: #00af00; text-decoration-color: #00af00\">128</span>)            │     <span style=\"color: #00af00; text-decoration-color: #00af00\">1,536,128</span> │\n├─────────────────────────────────┼────────────────────────┼───────────────┤\n│ dense_1 (<span style=\"color: #0087ff; text-decoration-color: #0087ff\">Dense</span>)                 │ (<span style=\"color: #00d7ff; text-decoration-color: #00d7ff\">None</span>, <span style=\"color: #00af00; text-decoration-color: #00af00\">256</span>)            │        <span style=\"color: #00af00; text-decoration-color: #00af00\">33,024</span> │\n├─────────────────────────────────┼────────────────────────┼───────────────┤\n│ dropout (<span style=\"color: #0087ff; text-decoration-color: #0087ff\">Dropout</span>)               │ (<span style=\"color: #00d7ff; text-decoration-color: #00d7ff\">None</span>, <span style=\"color: #00af00; text-decoration-color: #00af00\">256</span>)            │             <span style=\"color: #00af00; text-decoration-color: #00af00\">0</span> │\n├─────────────────────────────────┼────────────────────────┼───────────────┤\n│ dense_2 (<span style=\"color: #0087ff; text-decoration-color: #0087ff\">Dense</span>)                 │ (<span style=\"color: #00d7ff; text-decoration-color: #00d7ff\">None</span>, <span style=\"color: #00af00; text-decoration-color: #00af00\">64</span>)             │        <span style=\"color: #00af00; text-decoration-color: #00af00\">16,448</span> │\n├─────────────────────────────────┼────────────────────────┼───────────────┤\n│ dropout_1 (<span style=\"color: #0087ff; text-decoration-color: #0087ff\">Dropout</span>)             │ (<span style=\"color: #00d7ff; text-decoration-color: #00d7ff\">None</span>, <span style=\"color: #00af00; text-decoration-color: #00af00\">64</span>)             │             <span style=\"color: #00af00; text-decoration-color: #00af00\">0</span> │\n├─────────────────────────────────┼────────────────────────┼───────────────┤\n│ dense_3 (<span style=\"color: #0087ff; text-decoration-color: #0087ff\">Dense</span>)                 │ (<span style=\"color: #00d7ff; text-decoration-color: #00d7ff\">None</span>, <span style=\"color: #00af00; text-decoration-color: #00af00\">32</span>)             │         <span style=\"color: #00af00; text-decoration-color: #00af00\">2,080</span> │\n├─────────────────────────────────┼────────────────────────┼───────────────┤\n│ dense_4 (<span style=\"color: #0087ff; text-decoration-color: #0087ff\">Dense</span>)                 │ (<span style=\"color: #00d7ff; text-decoration-color: #00d7ff\">None</span>, <span style=\"color: #00af00; text-decoration-color: #00af00\">2</span>)              │            <span style=\"color: #00af00; text-decoration-color: #00af00\">66</span> │\n└─────────────────────────────────┴────────────────────────┴───────────────┘\n</pre>\n"
     },
     "metadata": {},
     "output_type": "display_data"
    },
    {
     "data": {
      "text/plain": "\u001B[1m Total params: \u001B[0m\u001B[38;5;34m1,587,746\u001B[0m (6.06 MB)\n",
      "text/html": "<pre style=\"white-space:pre;overflow-x:auto;line-height:normal;font-family:Menlo,'DejaVu Sans Mono',consolas,'Courier New',monospace\"><span style=\"font-weight: bold\"> Total params: </span><span style=\"color: #00af00; text-decoration-color: #00af00\">1,587,746</span> (6.06 MB)\n</pre>\n"
     },
     "metadata": {},
     "output_type": "display_data"
    },
    {
     "data": {
      "text/plain": "\u001B[1m Trainable params: \u001B[0m\u001B[38;5;34m1,587,746\u001B[0m (6.06 MB)\n",
      "text/html": "<pre style=\"white-space:pre;overflow-x:auto;line-height:normal;font-family:Menlo,'DejaVu Sans Mono',consolas,'Courier New',monospace\"><span style=\"font-weight: bold\"> Trainable params: </span><span style=\"color: #00af00; text-decoration-color: #00af00\">1,587,746</span> (6.06 MB)\n</pre>\n"
     },
     "metadata": {},
     "output_type": "display_data"
    },
    {
     "data": {
      "text/plain": "\u001B[1m Non-trainable params: \u001B[0m\u001B[38;5;34m0\u001B[0m (0.00 B)\n",
      "text/html": "<pre style=\"white-space:pre;overflow-x:auto;line-height:normal;font-family:Menlo,'DejaVu Sans Mono',consolas,'Courier New',monospace\"><span style=\"font-weight: bold\"> Non-trainable params: </span><span style=\"color: #00af00; text-decoration-color: #00af00\">0</span> (0.00 B)\n</pre>\n"
     },
     "metadata": {},
     "output_type": "display_data"
    }
   ],
   "source": [
    "# Define a simple neural network\n",
    "snn = Sequential()\n",
    "snn.add(Flatten(input_shape=input_shape))\n",
    "snn.add(Dense(128, activation='relu'))\n",
    "snn.add(Dense(256, activation='relu'))\n",
    "snn.add(Dropout(0.2))\n",
    "snn.add(Dense(64, activation='relu'))\n",
    "snn.add(Dropout(0.2))\n",
    "snn.add(Dense(32, activation='relu'))\n",
    "snn.add(Dense(num_classes, activation='sigmoid')) \n",
    "snn.compile(optimizer='adam', loss='binary_crossentropy', metrics=['accuracy'])\n",
    "snn.summary()"
   ],
   "metadata": {
    "collapsed": false,
    "ExecuteTime": {
     "end_time": "2024-05-31T12:55:11.531353Z",
     "start_time": "2024-05-31T12:55:11.055742Z"
    }
   },
   "execution_count": 27
  },
  {
   "cell_type": "code",
   "outputs": [
    {
     "name": "stdout",
     "output_type": "stream",
     "text": [
      "Epoch 1/20\n",
      "\u001B[1m468/468\u001B[0m \u001B[32m━━━━━━━━━━━━━━━━━━━━\u001B[0m\u001B[37m\u001B[0m \u001B[1m5s\u001B[0m 10ms/step - accuracy: 0.7358 - loss: 0.6054 - val_accuracy: 0.7478 - val_loss: 0.5783\n",
      "Epoch 2/20\n",
      "\u001B[1m468/468\u001B[0m \u001B[32m━━━━━━━━━━━━━━━━━━━━\u001B[0m\u001B[37m\u001B[0m \u001B[1m4s\u001B[0m 8ms/step - accuracy: 0.7379 - loss: 0.5742 - val_accuracy: 0.7478 - val_loss: 0.5764\n",
      "Epoch 3/20\n",
      "\u001B[1m468/468\u001B[0m \u001B[32m━━━━━━━━━━━━━━━━━━━━\u001B[0m\u001B[37m\u001B[0m \u001B[1m3s\u001B[0m 6ms/step - accuracy: 0.7396 - loss: 0.5416 - val_accuracy: 0.7478 - val_loss: 0.5875\n",
      "Epoch 4/20\n",
      "\u001B[1m468/468\u001B[0m \u001B[32m━━━━━━━━━━━━━━━━━━━━\u001B[0m\u001B[37m\u001B[0m \u001B[1m2s\u001B[0m 5ms/step - accuracy: 0.7672 - loss: 0.4840 - val_accuracy: 0.7329 - val_loss: 0.6437\n",
      "Epoch 5/20\n",
      "\u001B[1m468/468\u001B[0m \u001B[32m━━━━━━━━━━━━━━━━━━━━\u001B[0m\u001B[37m\u001B[0m \u001B[1m2s\u001B[0m 5ms/step - accuracy: 0.8173 - loss: 0.3894 - val_accuracy: 0.6887 - val_loss: 0.7146\n",
      "Epoch 6/20\n",
      "\u001B[1m468/468\u001B[0m \u001B[32m━━━━━━━━━━━━━━━━━━━━\u001B[0m\u001B[37m\u001B[0m \u001B[1m2s\u001B[0m 5ms/step - accuracy: 0.8843 - loss: 0.2860 - val_accuracy: 0.6594 - val_loss: 0.8723\n",
      "Epoch 7/20\n",
      "\u001B[1m468/468\u001B[0m \u001B[32m━━━━━━━━━━━━━━━━━━━━\u001B[0m\u001B[37m\u001B[0m \u001B[1m2s\u001B[0m 5ms/step - accuracy: 0.9234 - loss: 0.2161 - val_accuracy: 0.6538 - val_loss: 1.2001\n",
      "Epoch 8/20\n",
      "\u001B[1m468/468\u001B[0m \u001B[32m━━━━━━━━━━━━━━━━━━━━\u001B[0m\u001B[37m\u001B[0m \u001B[1m3s\u001B[0m 6ms/step - accuracy: 0.9565 - loss: 0.1483 - val_accuracy: 0.6620 - val_loss: 1.4009\n",
      "Epoch 9/20\n",
      "\u001B[1m468/468\u001B[0m \u001B[32m━━━━━━━━━━━━━━━━━━━━\u001B[0m\u001B[37m\u001B[0m \u001B[1m3s\u001B[0m 6ms/step - accuracy: 0.9681 - loss: 0.0964 - val_accuracy: 0.6543 - val_loss: 1.7027\n",
      "Epoch 10/20\n",
      "\u001B[1m468/468\u001B[0m \u001B[32m━━━━━━━━━━━━━━━━━━━━\u001B[0m\u001B[37m\u001B[0m \u001B[1m2s\u001B[0m 5ms/step - accuracy: 0.9737 - loss: 0.0817 - val_accuracy: 0.6662 - val_loss: 1.4759\n",
      "Epoch 11/20\n",
      "\u001B[1m468/468\u001B[0m \u001B[32m━━━━━━━━━━━━━━━━━━━━\u001B[0m\u001B[37m\u001B[0m \u001B[1m2s\u001B[0m 5ms/step - accuracy: 0.9792 - loss: 0.0650 - val_accuracy: 0.6484 - val_loss: 2.0569\n",
      "Epoch 12/20\n",
      "\u001B[1m468/468\u001B[0m \u001B[32m━━━━━━━━━━━━━━━━━━━━\u001B[0m\u001B[37m\u001B[0m \u001B[1m2s\u001B[0m 5ms/step - accuracy: 0.9823 - loss: 0.0616 - val_accuracy: 0.6407 - val_loss: 1.8211\n",
      "Epoch 13/20\n",
      "\u001B[1m468/468\u001B[0m \u001B[32m━━━━━━━━━━━━━━━━━━━━\u001B[0m\u001B[37m\u001B[0m \u001B[1m2s\u001B[0m 5ms/step - accuracy: 0.9854 - loss: 0.0461 - val_accuracy: 0.6667 - val_loss: 2.2531\n",
      "Epoch 14/20\n",
      "\u001B[1m468/468\u001B[0m \u001B[32m━━━━━━━━━━━━━━━━━━━━\u001B[0m\u001B[37m\u001B[0m \u001B[1m2s\u001B[0m 5ms/step - accuracy: 0.9801 - loss: 0.0592 - val_accuracy: 0.6379 - val_loss: 2.2838\n",
      "Epoch 15/20\n",
      "\u001B[1m468/468\u001B[0m \u001B[32m━━━━━━━━━━━━━━━━━━━━\u001B[0m\u001B[37m\u001B[0m \u001B[1m2s\u001B[0m 5ms/step - accuracy: 0.9857 - loss: 0.0572 - val_accuracy: 0.6552 - val_loss: 2.2657\n",
      "Epoch 16/20\n",
      "\u001B[1m468/468\u001B[0m \u001B[32m━━━━━━━━━━━━━━━━━━━━\u001B[0m\u001B[37m\u001B[0m \u001B[1m2s\u001B[0m 5ms/step - accuracy: 0.9893 - loss: 0.0358 - val_accuracy: 0.6629 - val_loss: 2.5848\n",
      "Epoch 17/20\n",
      "\u001B[1m468/468\u001B[0m \u001B[32m━━━━━━━━━━━━━━━━━━━━\u001B[0m\u001B[37m\u001B[0m \u001B[1m2s\u001B[0m 5ms/step - accuracy: 0.9844 - loss: 0.0543 - val_accuracy: 0.6753 - val_loss: 2.3528\n",
      "Epoch 18/20\n",
      "\u001B[1m468/468\u001B[0m \u001B[32m━━━━━━━━━━━━━━━━━━━━\u001B[0m\u001B[37m\u001B[0m \u001B[1m2s\u001B[0m 5ms/step - accuracy: 0.9904 - loss: 0.0332 - val_accuracy: 0.6529 - val_loss: 2.4114\n",
      "Epoch 19/20\n",
      "\u001B[1m468/468\u001B[0m \u001B[32m━━━━━━━━━━━━━━━━━━━━\u001B[0m\u001B[37m\u001B[0m \u001B[1m2s\u001B[0m 5ms/step - accuracy: 0.9911 - loss: 0.0292 - val_accuracy: 0.6491 - val_loss: 2.2298\n",
      "Epoch 20/20\n",
      "\u001B[1m468/468\u001B[0m \u001B[32m━━━━━━━━━━━━━━━━━━━━\u001B[0m\u001B[37m\u001B[0m \u001B[1m2s\u001B[0m 5ms/step - accuracy: 0.9897 - loss: 0.0315 - val_accuracy: 0.6690 - val_loss: 2.6965\n"
     ]
    }
   ],
   "source": [
    "# Train the model\n",
    "history = snn.fit(X_train, y_train_oh, validation_data=(X_val, y_val_oh), epochs=20, batch_size=32)"
   ],
   "metadata": {
    "collapsed": false,
    "ExecuteTime": {
     "end_time": "2024-05-31T12:56:13.868155Z",
     "start_time": "2024-05-31T12:55:11.536346Z"
    }
   },
   "execution_count": 28
  },
  {
   "cell_type": "code",
   "outputs": [
    {
     "data": {
      "text/plain": "<Figure size 1000x600 with 0 Axes>"
     },
     "metadata": {},
     "output_type": "display_data"
    },
    {
     "data": {
      "text/plain": "<Figure size 640x480 with 1 Axes>",
      "image/png": "[encoded data removed]"
     },
     "metadata": {},
     "output_type": "display_data"
    }
   ],
   "source": [
    "# plot the training and validation loss\n",
    "plt.figure(figsize=(10, 6))\n",
    "pd.DataFrame(history.history).plot()\n",
    "plt.show()"
   ],
   "metadata": {
    "collapsed": false,
    "ExecuteTime": {
     "end_time": "2024-05-31T16:14:42.470525Z",
     "start_time": "2024-05-31T16:14:42.328483Z"
    }
   },
   "execution_count": 53
  },
  {
   "cell_type": "markdown",
   "source": [
    "### Baased on the above plot, the model is overfitting, so we need to add some regularization techniques to prevent overfitting."
   ],
   "metadata": {
    "collapsed": false
   }
  },
  {
   "cell_type": "markdown",
   "source": [
    "### Convolutional Neural Network"
   ],
   "metadata": {
    "collapsed": false
   }
  },
  {
   "cell_type": "code",
   "outputs": [],
   "source": [
    "# Define a simple convolutional neural network\n",
    "cnn = Sequential()\n",
    "cnn.add(Input(shape=input_shape))\n",
    "cnn.add(Conv1D(64, 3, activation='relu'))\n",
    "cnn.add(MaxPooling1D(2))\n",
    "cnn.add(Conv1D(128, 3, activation='relu'))\n",
    "cnn.add(MaxPooling1D(2))\n",
    "cnn.add(Flatten())\n",
    "cnn.add(Dense(128, activation='relu'))\n",
    "cnn.add(Dropout(0.2))\n",
    "cnn.add(Dense(256, activation='relu'))\n",
    "cnn.add(Dropout(0.2))\n",
    "cnn.add(Dense(64, activation='relu'))\n",
    "cnn.add(Dense(2, activation='sigmoid'))\n",
    "cnn.compile(optimizer='adam', loss='binary_crossentropy', metrics=['accuracy'])"
   ],
   "metadata": {
    "collapsed": false,
    "ExecuteTime": {
     "end_time": "2024-05-31T13:01:41.552608Z",
     "start_time": "2024-05-31T13:01:41.395596Z"
    }
   },
   "execution_count": 33
  },
  {
   "cell_type": "code",
   "outputs": [
    {
     "data": {
      "text/plain": "\u001B[1mModel: \"sequential_2\"\u001B[0m\n",
      "text/html": "<pre style=\"white-space:pre;overflow-x:auto;line-height:normal;font-family:Menlo,'DejaVu Sans Mono',consolas,'Courier New',monospace\"><span style=\"font-weight: bold\">Model: \"sequential_2\"</span>\n</pre>\n"
     },
     "metadata": {},
     "output_type": "display_data"
    },
    {
     "data": {
      "text/plain": "┏━━━━━━━━━━━━━━━━━━━━━━━━━━━━━━━━━┳━━━━━━━━━━━━━━━━━━━━━━━━┳━━━━━━━━━━━━━━━┓\n┃\u001B[1m \u001B[0m\u001B[1mLayer (type)                   \u001B[0m\u001B[1m \u001B[0m┃\u001B[1m \u001B[0m\u001B[1mOutput Shape          \u001B[0m\u001B[1m \u001B[0m┃\u001B[1m \u001B[0m\u001B[1m      Param #\u001B[0m\u001B[1m \u001B[0m┃\n┡━━━━━━━━━━━━━━━━━━━━━━━━━━━━━━━━━╇━━━━━━━━━━━━━━━━━━━━━━━━╇━━━━━━━━━━━━━━━┩\n│ conv1d_2 (\u001B[38;5;33mConv1D\u001B[0m)               │ (\u001B[38;5;45mNone\u001B[0m, \u001B[38;5;34m998\u001B[0m, \u001B[38;5;34m64\u001B[0m)        │         \u001B[38;5;34m2,368\u001B[0m │\n├─────────────────────────────────┼────────────────────────┼───────────────┤\n│ max_pooling1d_2 (\u001B[38;5;33mMaxPooling1D\u001B[0m)  │ (\u001B[38;5;45mNone\u001B[0m, \u001B[38;5;34m499\u001B[0m, \u001B[38;5;34m64\u001B[0m)        │             \u001B[38;5;34m0\u001B[0m │\n├─────────────────────────────────┼────────────────────────┼───────────────┤\n│ conv1d_3 (\u001B[38;5;33mConv1D\u001B[0m)               │ (\u001B[38;5;45mNone\u001B[0m, \u001B[38;5;34m497\u001B[0m, \u001B[38;5;34m128\u001B[0m)       │        \u001B[38;5;34m24,704\u001B[0m │\n├─────────────────────────────────┼────────────────────────┼───────────────┤\n│ max_pooling1d_3 (\u001B[38;5;33mMaxPooling1D\u001B[0m)  │ (\u001B[38;5;45mNone\u001B[0m, \u001B[38;5;34m248\u001B[0m, \u001B[38;5;34m128\u001B[0m)       │             \u001B[38;5;34m0\u001B[0m │\n├─────────────────────────────────┼────────────────────────┼───────────────┤\n│ flatten_2 (\u001B[38;5;33mFlatten\u001B[0m)             │ (\u001B[38;5;45mNone\u001B[0m, \u001B[38;5;34m31744\u001B[0m)          │             \u001B[38;5;34m0\u001B[0m │\n├─────────────────────────────────┼────────────────────────┼───────────────┤\n│ dense_9 (\u001B[38;5;33mDense\u001B[0m)                 │ (\u001B[38;5;45mNone\u001B[0m, \u001B[38;5;34m128\u001B[0m)            │     \u001B[38;5;34m4,063,360\u001B[0m │\n├─────────────────────────────────┼────────────────────────┼───────────────┤\n│ dropout_4 (\u001B[38;5;33mDropout\u001B[0m)             │ (\u001B[38;5;45mNone\u001B[0m, \u001B[38;5;34m128\u001B[0m)            │             \u001B[38;5;34m0\u001B[0m │\n├─────────────────────────────────┼────────────────────────┼───────────────┤\n│ dense_10 (\u001B[38;5;33mDense\u001B[0m)                │ (\u001B[38;5;45mNone\u001B[0m, \u001B[38;5;34m256\u001B[0m)            │        \u001B[38;5;34m33,024\u001B[0m │\n├─────────────────────────────────┼────────────────────────┼───────────────┤\n│ dropout_5 (\u001B[38;5;33mDropout\u001B[0m)             │ (\u001B[38;5;45mNone\u001B[0m, \u001B[38;5;34m256\u001B[0m)            │             \u001B[38;5;34m0\u001B[0m │\n├─────────────────────────────────┼────────────────────────┼───────────────┤\n│ dense_11 (\u001B[38;5;33mDense\u001B[0m)                │ (\u001B[38;5;45mNone\u001B[0m, \u001B[38;5;34m64\u001B[0m)             │        \u001B[38;5;34m16,448\u001B[0m │\n├─────────────────────────────────┼────────────────────────┼───────────────┤\n│ dense_12 (\u001B[38;5;33mDense\u001B[0m)                │ (\u001B[38;5;45mNone\u001B[0m, \u001B[38;5;34m2\u001B[0m)              │           \u001B[38;5;34m130\u001B[0m │\n└─────────────────────────────────┴────────────────────────┴───────────────┘\n",
      "text/html": "<pre style=\"white-space:pre;overflow-x:auto;line-height:normal;font-family:Menlo,'DejaVu Sans Mono',consolas,'Courier New',monospace\">┏━━━━━━━━━━━━━━━━━━━━━━━━━━━━━━━━━┳━━━━━━━━━━━━━━━━━━━━━━━━┳━━━━━━━━━━━━━━━┓\n┃<span style=\"font-weight: bold\"> Layer (type)                    </span>┃<span style=\"font-weight: bold\"> Output Shape           </span>┃<span style=\"font-weight: bold\">       Param # </span>┃\n┡━━━━━━━━━━━━━━━━━━━━━━━━━━━━━━━━━╇━━━━━━━━━━━━━━━━━━━━━━━━╇━━━━━━━━━━━━━━━┩\n│ conv1d_2 (<span style=\"color: #0087ff; text-decoration-color: #0087ff\">Conv1D</span>)               │ (<span style=\"color: #00d7ff; text-decoration-color: #00d7ff\">None</span>, <span style=\"color: #00af00; text-decoration-color: #00af00\">998</span>, <span style=\"color: #00af00; text-decoration-color: #00af00\">64</span>)        │         <span style=\"color: #00af00; text-decoration-color: #00af00\">2,368</span> │\n├─────────────────────────────────┼────────────────────────┼───────────────┤\n│ max_pooling1d_2 (<span style=\"color: #0087ff; text-decoration-color: #0087ff\">MaxPooling1D</span>)  │ (<span style=\"color: #00d7ff; text-decoration-color: #00d7ff\">None</span>, <span style=\"color: #00af00; text-decoration-color: #00af00\">499</span>, <span style=\"color: #00af00; text-decoration-color: #00af00\">64</span>)        │             <span style=\"color: #00af00; text-decoration-color: #00af00\">0</span> │\n├─────────────────────────────────┼────────────────────────┼───────────────┤\n│ conv1d_3 (<span style=\"color: #0087ff; text-decoration-color: #0087ff\">Conv1D</span>)               │ (<span style=\"color: #00d7ff; text-decoration-color: #00d7ff\">None</span>, <span style=\"color: #00af00; text-decoration-color: #00af00\">497</span>, <span style=\"color: #00af00; text-decoration-color: #00af00\">128</span>)       │        <span style=\"color: #00af00; text-decoration-color: #00af00\">24,704</span> │\n├─────────────────────────────────┼────────────────────────┼───────────────┤\n│ max_pooling1d_3 (<span style=\"color: #0087ff; text-decoration-color: #0087ff\">MaxPooling1D</span>)  │ (<span style=\"color: #00d7ff; text-decoration-color: #00d7ff\">None</span>, <span style=\"color: #00af00; text-decoration-color: #00af00\">248</span>, <span style=\"color: #00af00; text-decoration-color: #00af00\">128</span>)       │             <span style=\"color: #00af00; text-decoration-color: #00af00\">0</span> │\n├─────────────────────────────────┼────────────────────────┼───────────────┤\n│ flatten_2 (<span style=\"color: #0087ff; text-decoration-color: #0087ff\">Flatten</span>)             │ (<span style=\"color: #00d7ff; text-decoration-color: #00d7ff\">None</span>, <span style=\"color: #00af00; text-decoration-color: #00af00\">31744</span>)          │             <span style=\"color: #00af00; text-decoration-color: #00af00\">0</span> │\n├─────────────────────────────────┼────────────────────────┼───────────────┤\n│ dense_9 (<span style=\"color: #0087ff; text-decoration-color: #0087ff\">Dense</span>)                 │ (<span style=\"color: #00d7ff; text-decoration-color: #00d7ff\">None</span>, <span style=\"color: #00af00; text-decoration-color: #00af00\">128</span>)            │     <span style=\"color: #00af00; text-decoration-color: #00af00\">4,063,360</span> │\n├─────────────────────────────────┼────────────────────────┼───────────────┤\n│ dropout_4 (<span style=\"color: #0087ff; text-decoration-color: #0087ff\">Dropout</span>)             │ (<span style=\"color: #00d7ff; text-decoration-color: #00d7ff\">None</span>, <span style=\"color: #00af00; text-decoration-color: #00af00\">128</span>)            │             <span style=\"color: #00af00; text-decoration-color: #00af00\">0</span> │\n├─────────────────────────────────┼────────────────────────┼───────────────┤\n│ dense_10 (<span style=\"color: #0087ff; text-decoration-color: #0087ff\">Dense</span>)                │ (<span style=\"color: #00d7ff; text-decoration-color: #00d7ff\">None</span>, <span style=\"color: #00af00; text-decoration-color: #00af00\">256</span>)            │        <span style=\"color: #00af00; text-decoration-color: #00af00\">33,024</span> │\n├─────────────────────────────────┼────────────────────────┼───────────────┤\n│ dropout_5 (<span style=\"color: #0087ff; text-decoration-color: #0087ff\">Dropout</span>)             │ (<span style=\"color: #00d7ff; text-decoration-color: #00d7ff\">None</span>, <span style=\"color: #00af00; text-decoration-color: #00af00\">256</span>)            │             <span style=\"color: #00af00; text-decoration-color: #00af00\">0</span> │\n├─────────────────────────────────┼────────────────────────┼───────────────┤\n│ dense_11 (<span style=\"color: #0087ff; text-decoration-color: #0087ff\">Dense</span>)                │ (<span style=\"color: #00d7ff; text-decoration-color: #00d7ff\">None</span>, <span style=\"color: #00af00; text-decoration-color: #00af00\">64</span>)             │        <span style=\"color: #00af00; text-decoration-color: #00af00\">16,448</span> │\n├─────────────────────────────────┼────────────────────────┼───────────────┤\n│ dense_12 (<span style=\"color: #0087ff; text-decoration-color: #0087ff\">Dense</span>)                │ (<span style=\"color: #00d7ff; text-decoration-color: #00d7ff\">None</span>, <span style=\"color: #00af00; text-decoration-color: #00af00\">2</span>)              │           <span style=\"color: #00af00; text-decoration-color: #00af00\">130</span> │\n└─────────────────────────────────┴────────────────────────┴───────────────┘\n</pre>\n"
     },
     "metadata": {},
     "output_type": "display_data"
    },
    {
     "data": {
      "text/plain": "\u001B[1m Total params: \u001B[0m\u001B[38;5;34m4,140,034\u001B[0m (15.79 MB)\n",
      "text/html": "<pre style=\"white-space:pre;overflow-x:auto;line-height:normal;font-family:Menlo,'DejaVu Sans Mono',consolas,'Courier New',monospace\"><span style=\"font-weight: bold\"> Total params: </span><span style=\"color: #00af00; text-decoration-color: #00af00\">4,140,034</span> (15.79 MB)\n</pre>\n"
     },
     "metadata": {},
     "output_type": "display_data"
    },
    {
     "data": {
      "text/plain": "\u001B[1m Trainable params: \u001B[0m\u001B[38;5;34m4,140,034\u001B[0m (15.79 MB)\n",
      "text/html": "<pre style=\"white-space:pre;overflow-x:auto;line-height:normal;font-family:Menlo,'DejaVu Sans Mono',consolas,'Courier New',monospace\"><span style=\"font-weight: bold\"> Trainable params: </span><span style=\"color: #00af00; text-decoration-color: #00af00\">4,140,034</span> (15.79 MB)\n</pre>\n"
     },
     "metadata": {},
     "output_type": "display_data"
    },
    {
     "data": {
      "text/plain": "\u001B[1m Non-trainable params: \u001B[0m\u001B[38;5;34m0\u001B[0m (0.00 B)\n",
      "text/html": "<pre style=\"white-space:pre;overflow-x:auto;line-height:normal;font-family:Menlo,'DejaVu Sans Mono',consolas,'Courier New',monospace\"><span style=\"font-weight: bold\"> Non-trainable params: </span><span style=\"color: #00af00; text-decoration-color: #00af00\">0</span> (0.00 B)\n</pre>\n"
     },
     "metadata": {},
     "output_type": "display_data"
    }
   ],
   "source": [
    "cnn.summary()"
   ],
   "metadata": {
    "collapsed": false,
    "ExecuteTime": {
     "end_time": "2024-05-31T13:02:08.450154Z",
     "start_time": "2024-05-31T13:02:08.423871Z"
    }
   },
   "execution_count": 34
  },
  {
   "cell_type": "code",
   "outputs": [
    {
     "name": "stdout",
     "output_type": "stream",
     "text": [
      "Epoch 1/20\n",
      "\u001B[1m468/468\u001B[0m \u001B[32m━━━━━━━━━━━━━━━━━━━━\u001B[0m\u001B[37m\u001B[0m \u001B[1m21s\u001B[0m 44ms/step - accuracy: 0.7353 - loss: 0.5919 - val_accuracy: 0.7478 - val_loss: 0.5650\n",
      "Epoch 2/20\n",
      "\u001B[1m468/468\u001B[0m \u001B[32m━━━━━━━━━━━━━━━━━━━━\u001B[0m\u001B[37m\u001B[0m \u001B[1m21s\u001B[0m 45ms/step - accuracy: 0.7401 - loss: 0.5712 - val_accuracy: 0.7478 - val_loss: 0.5675\n",
      "Epoch 3/20\n",
      "\u001B[1m468/468\u001B[0m \u001B[32m━━━━━━━━━━━━━━━━━━━━\u001B[0m\u001B[37m\u001B[0m \u001B[1m22s\u001B[0m 46ms/step - accuracy: 0.7377 - loss: 0.5607 - val_accuracy: 0.7481 - val_loss: 0.5784\n",
      "Epoch 4/20\n",
      "\u001B[1m468/468\u001B[0m \u001B[32m━━━━━━━━━━━━━━━━━━━━\u001B[0m\u001B[37m\u001B[0m \u001B[1m19s\u001B[0m 41ms/step - accuracy: 0.7569 - loss: 0.5168 - val_accuracy: 0.7181 - val_loss: 0.6062\n",
      "Epoch 5/20\n",
      "\u001B[1m468/468\u001B[0m \u001B[32m━━━━━━━━━━━━━━━━━━━━\u001B[0m\u001B[37m\u001B[0m \u001B[1m16s\u001B[0m 33ms/step - accuracy: 0.8308 - loss: 0.4074 - val_accuracy: 0.7095 - val_loss: 0.7180\n",
      "Epoch 6/20\n",
      "\u001B[1m468/468\u001B[0m \u001B[32m━━━━━━━━━━━━━━━━━━━━\u001B[0m\u001B[37m\u001B[0m \u001B[1m18s\u001B[0m 38ms/step - accuracy: 0.9034 - loss: 0.2514 - val_accuracy: 0.7067 - val_loss: 0.8785\n",
      "Epoch 7/20\n",
      "\u001B[1m468/468\u001B[0m \u001B[32m━━━━━━━━━━━━━━━━━━━━\u001B[0m\u001B[37m\u001B[0m \u001B[1m14s\u001B[0m 30ms/step - accuracy: 0.9490 - loss: 0.1611 - val_accuracy: 0.6996 - val_loss: 1.1488\n",
      "Epoch 8/20\n",
      "\u001B[1m468/468\u001B[0m \u001B[32m━━━━━━━━━━━━━━━━━━━━\u001B[0m\u001B[37m\u001B[0m \u001B[1m15s\u001B[0m 32ms/step - accuracy: 0.9689 - loss: 0.0981 - val_accuracy: 0.7109 - val_loss: 1.4290\n",
      "Epoch 9/20\n",
      "\u001B[1m468/468\u001B[0m \u001B[32m━━━━━━━━━━━━━━━━━━━━\u001B[0m\u001B[37m\u001B[0m \u001B[1m14s\u001B[0m 30ms/step - accuracy: 0.9710 - loss: 0.0971 - val_accuracy: 0.7090 - val_loss: 1.5223\n",
      "Epoch 10/20\n",
      "\u001B[1m468/468\u001B[0m \u001B[32m━━━━━━━━━━━━━━━━━━━━\u001B[0m\u001B[37m\u001B[0m \u001B[1m15s\u001B[0m 31ms/step - accuracy: 0.9801 - loss: 0.0647 - val_accuracy: 0.6966 - val_loss: 1.4761\n",
      "Epoch 11/20\n",
      "\u001B[1m468/468\u001B[0m \u001B[32m━━━━━━━━━━━━━━━━━━━━\u001B[0m\u001B[37m\u001B[0m \u001B[1m15s\u001B[0m 32ms/step - accuracy: 0.9821 - loss: 0.0565 - val_accuracy: 0.6982 - val_loss: 1.4623\n",
      "Epoch 12/20\n",
      "\u001B[1m468/468\u001B[0m \u001B[32m━━━━━━━━━━━━━━━━━━━━\u001B[0m\u001B[37m\u001B[0m \u001B[1m15s\u001B[0m 33ms/step - accuracy: 0.9807 - loss: 0.0605 - val_accuracy: 0.6873 - val_loss: 1.4276\n",
      "Epoch 13/20\n",
      "\u001B[1m468/468\u001B[0m \u001B[32m━━━━━━━━━━━━━━━━━━━━\u001B[0m\u001B[37m\u001B[0m \u001B[1m14s\u001B[0m 31ms/step - accuracy: 0.9861 - loss: 0.0495 - val_accuracy: 0.6891 - val_loss: 1.4340\n",
      "Epoch 14/20\n",
      "\u001B[1m468/468\u001B[0m \u001B[32m━━━━━━━━━━━━━━━━━━━━\u001B[0m\u001B[37m\u001B[0m \u001B[1m14s\u001B[0m 31ms/step - accuracy: 0.9879 - loss: 0.0410 - val_accuracy: 0.6966 - val_loss: 1.8267\n",
      "Epoch 15/20\n",
      "\u001B[1m468/468\u001B[0m \u001B[32m━━━━━━━━━━━━━━━━━━━━\u001B[0m\u001B[37m\u001B[0m \u001B[1m14s\u001B[0m 30ms/step - accuracy: 0.9865 - loss: 0.0468 - val_accuracy: 0.6950 - val_loss: 1.5097\n",
      "Epoch 16/20\n",
      "\u001B[1m468/468\u001B[0m \u001B[32m━━━━━━━━━━━━━━━━━━━━\u001B[0m\u001B[37m\u001B[0m \u001B[1m14s\u001B[0m 30ms/step - accuracy: 0.9876 - loss: 0.0402 - val_accuracy: 0.6950 - val_loss: 1.5433\n",
      "Epoch 17/20\n",
      "\u001B[1m468/468\u001B[0m \u001B[32m━━━━━━━━━━━━━━━━━━━━\u001B[0m\u001B[37m\u001B[0m \u001B[1m14s\u001B[0m 30ms/step - accuracy: 0.9873 - loss: 0.0459 - val_accuracy: 0.6980 - val_loss: 1.5900\n",
      "Epoch 18/20\n",
      "\u001B[1m468/468\u001B[0m \u001B[32m━━━━━━━━━━━━━━━━━━━━\u001B[0m\u001B[37m\u001B[0m \u001B[1m14s\u001B[0m 30ms/step - accuracy: 0.9911 - loss: 0.0324 - val_accuracy: 0.6917 - val_loss: 1.6490\n",
      "Epoch 19/20\n",
      "\u001B[1m468/468\u001B[0m \u001B[32m━━━━━━━━━━━━━━━━━━━━\u001B[0m\u001B[37m\u001B[0m \u001B[1m14s\u001B[0m 30ms/step - accuracy: 0.9919 - loss: 0.0324 - val_accuracy: 0.6912 - val_loss: 1.5323\n",
      "Epoch 20/20\n",
      "\u001B[1m468/468\u001B[0m \u001B[32m━━━━━━━━━━━━━━━━━━━━\u001B[0m\u001B[37m\u001B[0m \u001B[1m14s\u001B[0m 30ms/step - accuracy: 0.9898 - loss: 0.0359 - val_accuracy: 0.7013 - val_loss: 1.5813\n"
     ]
    }
   ],
   "source": [
    "history = cnn.fit(X_train, y_train_oh, validation_data=(X_val, y_val_oh), epochs=20, batch_size=32)"
   ],
   "metadata": {
    "collapsed": false,
    "ExecuteTime": {
     "end_time": "2024-05-31T13:07:36.251437Z",
     "start_time": "2024-05-31T13:02:11.448494Z"
    }
   },
   "execution_count": 35
  },
  {
   "cell_type": "code",
   "outputs": [
    {
     "data": {
      "text/plain": "<Figure size 1000x600 with 0 Axes>"
     },
     "metadata": {},
     "output_type": "display_data"
    },
    {
     "data": {
      "text/plain": "<Figure size 640x480 with 1 Axes>",
      "image/png": "[encoded data removed]"
     },
     "metadata": {},
     "output_type": "display_data"
    }
   ],
   "source": [
    "# plot the training and validation loss\n",
    "plt.figure(figsize=(10, 6))\n",
    "pd.DataFrame(history.history).plot()\n",
    "plt.show()"
   ],
   "metadata": {
    "collapsed": false,
    "ExecuteTime": {
     "end_time": "2024-05-31T13:07:48.917977Z",
     "start_time": "2024-05-31T13:07:48.766328Z"
    }
   },
   "execution_count": 36
  },
  {
   "cell_type": "markdown",
   "source": [
    "### Baased on the above plot, the model is overfitting, so we need to add some regularization techniques to prevent overfitting."
   ],
   "metadata": {
    "collapsed": false
   }
  },
  {
   "cell_type": "markdown",
   "source": [
    "### inspired by the LeNet-5 architecture"
   ],
   "metadata": {
    "collapsed": false
   }
  },
  {
   "cell_type": "code",
   "outputs": [
    {
     "name": "stderr",
     "output_type": "stream",
     "text": [
      "/Users/gala/PycharmProjects/Saturdays_FP/disease-prediction/dis/lib/python3.10/site-packages/keras/src/layers/convolutional/base_conv.py:107: UserWarning: Do not pass an `input_shape`/`input_dim` argument to a layer. When using Sequential models, prefer using an `Input(shape)` object as the first layer in the model instead.\n",
      "  super().__init__(activity_regularizer=activity_regularizer, **kwargs)\n"
     ]
    }
   ],
   "source": [
    "lenet = Sequential()\n",
    "lenet.add(Conv1D(6, 3, padding ='same', activation='relu', input_shape=input_shape))\n",
    "lenet.add(BatchNormalization())\n",
    "lenet.add(MaxPooling1D(2, padding='same', strides=2))\n",
    "\n",
    "lenet.add(Conv1D(16, 5,activation='relu'))\n",
    "lenet.add(BatchNormalization())\n",
    "lenet.add(MaxPooling1D(2, padding='same', strides=2))\n",
    "\n",
    "lenet.add(GlobalAveragePooling1D())\n",
    "lenet.add(Dense(64, activation='relu'))\n",
    "#lenet.add(Dropout(0.2))\n",
    "lenet.add(Dense(32, activation='relu'))\n",
    "lenet.add(Dense(1, activation='sigmoid'))\n"
   ],
   "metadata": {
    "collapsed": false,
    "ExecuteTime": {
     "end_time": "2024-05-31T13:08:44.177376Z",
     "start_time": "2024-05-31T13:08:44.087490Z"
    }
   },
   "execution_count": 37
  },
  {
   "cell_type": "code",
   "outputs": [],
   "source": [
    "optimizer = tf.keras.optimizers.Adam(learning_rate=0.001)"
   ],
   "metadata": {
    "collapsed": false,
    "ExecuteTime": {
     "end_time": "2024-05-31T13:08:45.147616Z",
     "start_time": "2024-05-31T13:08:45.143575Z"
    }
   },
   "execution_count": 38
  },
  {
   "cell_type": "code",
   "outputs": [],
   "source": [
    "lenet.compile(loss=tf.keras.losses.BinaryCrossentropy(), optimizer=optimizer, metrics=[tf.keras.metrics.BinaryAccuracy(\n",
    "        name='accuracy', dtype=None, threshold=0.5),tf.keras.metrics.Recall(name='Recall'),tf.keras.metrics.Precision(name='Precision'), \n",
    "                    tf.keras.metrics.AUC(\n",
    "        num_thresholds=200,\n",
    "        curve=\"ROC\",\n",
    "        summation_method=\"interpolation\",\n",
    "        name=\"AUC\",\n",
    "        dtype=None,\n",
    "        thresholds=None,\n",
    "        multi_label=True,\n",
    "        label_weights=None,\n",
    "    )])"
   ],
   "metadata": {
    "collapsed": false,
    "ExecuteTime": {
     "end_time": "2024-05-31T13:08:45.850434Z",
     "start_time": "2024-05-31T13:08:45.839864Z"
    }
   },
   "execution_count": 39
  },
  {
   "cell_type": "code",
   "outputs": [
    {
     "data": {
      "text/plain": "\u001B[1mModel: \"sequential_3\"\u001B[0m\n",
      "text/html": "<pre style=\"white-space:pre;overflow-x:auto;line-height:normal;font-family:Menlo,'DejaVu Sans Mono',consolas,'Courier New',monospace\"><span style=\"font-weight: bold\">Model: \"sequential_3\"</span>\n</pre>\n"
     },
     "metadata": {},
     "output_type": "display_data"
    },
    {
     "data": {
      "text/plain": "┏━━━━━━━━━━━━━━━━━━━━━━━━━━━━━━━━━┳━━━━━━━━━━━━━━━━━━━━━━━━┳━━━━━━━━━━━━━━━┓\n┃\u001B[1m \u001B[0m\u001B[1mLayer (type)                   \u001B[0m\u001B[1m \u001B[0m┃\u001B[1m \u001B[0m\u001B[1mOutput Shape          \u001B[0m\u001B[1m \u001B[0m┃\u001B[1m \u001B[0m\u001B[1m      Param #\u001B[0m\u001B[1m \u001B[0m┃\n┡━━━━━━━━━━━━━━━━━━━━━━━━━━━━━━━━━╇━━━━━━━━━━━━━━━━━━━━━━━━╇━━━━━━━━━━━━━━━┩\n│ conv1d_4 (\u001B[38;5;33mConv1D\u001B[0m)               │ (\u001B[38;5;45mNone\u001B[0m, \u001B[38;5;34m1000\u001B[0m, \u001B[38;5;34m6\u001B[0m)        │           \u001B[38;5;34m222\u001B[0m │\n├─────────────────────────────────┼────────────────────────┼───────────────┤\n│ batch_normalization             │ (\u001B[38;5;45mNone\u001B[0m, \u001B[38;5;34m1000\u001B[0m, \u001B[38;5;34m6\u001B[0m)        │            \u001B[38;5;34m24\u001B[0m │\n│ (\u001B[38;5;33mBatchNormalization\u001B[0m)            │                        │               │\n├─────────────────────────────────┼────────────────────────┼───────────────┤\n│ max_pooling1d_4 (\u001B[38;5;33mMaxPooling1D\u001B[0m)  │ (\u001B[38;5;45mNone\u001B[0m, \u001B[38;5;34m500\u001B[0m, \u001B[38;5;34m6\u001B[0m)         │             \u001B[38;5;34m0\u001B[0m │\n├─────────────────────────────────┼────────────────────────┼───────────────┤\n│ conv1d_5 (\u001B[38;5;33mConv1D\u001B[0m)               │ (\u001B[38;5;45mNone\u001B[0m, \u001B[38;5;34m496\u001B[0m, \u001B[38;5;34m16\u001B[0m)        │           \u001B[38;5;34m496\u001B[0m │\n├─────────────────────────────────┼────────────────────────┼───────────────┤\n│ batch_normalization_1           │ (\u001B[38;5;45mNone\u001B[0m, \u001B[38;5;34m496\u001B[0m, \u001B[38;5;34m16\u001B[0m)        │            \u001B[38;5;34m64\u001B[0m │\n│ (\u001B[38;5;33mBatchNormalization\u001B[0m)            │                        │               │\n├─────────────────────────────────┼────────────────────────┼───────────────┤\n│ max_pooling1d_5 (\u001B[38;5;33mMaxPooling1D\u001B[0m)  │ (\u001B[38;5;45mNone\u001B[0m, \u001B[38;5;34m248\u001B[0m, \u001B[38;5;34m16\u001B[0m)        │             \u001B[38;5;34m0\u001B[0m │\n├─────────────────────────────────┼────────────────────────┼───────────────┤\n│ global_average_pooling1d        │ (\u001B[38;5;45mNone\u001B[0m, \u001B[38;5;34m16\u001B[0m)             │             \u001B[38;5;34m0\u001B[0m │\n│ (\u001B[38;5;33mGlobalAveragePooling1D\u001B[0m)        │                        │               │\n├─────────────────────────────────┼────────────────────────┼───────────────┤\n│ dense_13 (\u001B[38;5;33mDense\u001B[0m)                │ (\u001B[38;5;45mNone\u001B[0m, \u001B[38;5;34m64\u001B[0m)             │         \u001B[38;5;34m1,088\u001B[0m │\n├─────────────────────────────────┼────────────────────────┼───────────────┤\n│ dense_14 (\u001B[38;5;33mDense\u001B[0m)                │ (\u001B[38;5;45mNone\u001B[0m, \u001B[38;5;34m32\u001B[0m)             │         \u001B[38;5;34m2,080\u001B[0m │\n├─────────────────────────────────┼────────────────────────┼───────────────┤\n│ dense_15 (\u001B[38;5;33mDense\u001B[0m)                │ (\u001B[38;5;45mNone\u001B[0m, \u001B[38;5;34m1\u001B[0m)              │            \u001B[38;5;34m33\u001B[0m │\n└─────────────────────────────────┴────────────────────────┴───────────────┘\n",
      "text/html": "<pre style=\"white-space:pre;overflow-x:auto;line-height:normal;font-family:Menlo,'DejaVu Sans Mono',consolas,'Courier New',monospace\">┏━━━━━━━━━━━━━━━━━━━━━━━━━━━━━━━━━┳━━━━━━━━━━━━━━━━━━━━━━━━┳━━━━━━━━━━━━━━━┓\n┃<span style=\"font-weight: bold\"> Layer (type)                    </span>┃<span style=\"font-weight: bold\"> Output Shape           </span>┃<span style=\"font-weight: bold\">       Param # </span>┃\n┡━━━━━━━━━━━━━━━━━━━━━━━━━━━━━━━━━╇━━━━━━━━━━━━━━━━━━━━━━━━╇━━━━━━━━━━━━━━━┩\n│ conv1d_4 (<span style=\"color: #0087ff; text-decoration-color: #0087ff\">Conv1D</span>)               │ (<span style=\"color: #00d7ff; text-decoration-color: #00d7ff\">None</span>, <span style=\"color: #00af00; text-decoration-color: #00af00\">1000</span>, <span style=\"color: #00af00; text-decoration-color: #00af00\">6</span>)        │           <span style=\"color: #00af00; text-decoration-color: #00af00\">222</span> │\n├─────────────────────────────────┼────────────────────────┼───────────────┤\n│ batch_normalization             │ (<span style=\"color: #00d7ff; text-decoration-color: #00d7ff\">None</span>, <span style=\"color: #00af00; text-decoration-color: #00af00\">1000</span>, <span style=\"color: #00af00; text-decoration-color: #00af00\">6</span>)        │            <span style=\"color: #00af00; text-decoration-color: #00af00\">24</span> │\n│ (<span style=\"color: #0087ff; text-decoration-color: #0087ff\">BatchNormalization</span>)            │                        │               │\n├─────────────────────────────────┼────────────────────────┼───────────────┤\n│ max_pooling1d_4 (<span style=\"color: #0087ff; text-decoration-color: #0087ff\">MaxPooling1D</span>)  │ (<span style=\"color: #00d7ff; text-decoration-color: #00d7ff\">None</span>, <span style=\"color: #00af00; text-decoration-color: #00af00\">500</span>, <span style=\"color: #00af00; text-decoration-color: #00af00\">6</span>)         │             <span style=\"color: #00af00; text-decoration-color: #00af00\">0</span> │\n├─────────────────────────────────┼────────────────────────┼───────────────┤\n│ conv1d_5 (<span style=\"color: #0087ff; text-decoration-color: #0087ff\">Conv1D</span>)               │ (<span style=\"color: #00d7ff; text-decoration-color: #00d7ff\">None</span>, <span style=\"color: #00af00; text-decoration-color: #00af00\">496</span>, <span style=\"color: #00af00; text-decoration-color: #00af00\">16</span>)        │           <span style=\"color: #00af00; text-decoration-color: #00af00\">496</span> │\n├─────────────────────────────────┼────────────────────────┼───────────────┤\n│ batch_normalization_1           │ (<span style=\"color: #00d7ff; text-decoration-color: #00d7ff\">None</span>, <span style=\"color: #00af00; text-decoration-color: #00af00\">496</span>, <span style=\"color: #00af00; text-decoration-color: #00af00\">16</span>)        │            <span style=\"color: #00af00; text-decoration-color: #00af00\">64</span> │\n│ (<span style=\"color: #0087ff; text-decoration-color: #0087ff\">BatchNormalization</span>)            │                        │               │\n├─────────────────────────────────┼────────────────────────┼───────────────┤\n│ max_pooling1d_5 (<span style=\"color: #0087ff; text-decoration-color: #0087ff\">MaxPooling1D</span>)  │ (<span style=\"color: #00d7ff; text-decoration-color: #00d7ff\">None</span>, <span style=\"color: #00af00; text-decoration-color: #00af00\">248</span>, <span style=\"color: #00af00; text-decoration-color: #00af00\">16</span>)        │             <span style=\"color: #00af00; text-decoration-color: #00af00\">0</span> │\n├─────────────────────────────────┼────────────────────────┼───────────────┤\n│ global_average_pooling1d        │ (<span style=\"color: #00d7ff; text-decoration-color: #00d7ff\">None</span>, <span style=\"color: #00af00; text-decoration-color: #00af00\">16</span>)             │             <span style=\"color: #00af00; text-decoration-color: #00af00\">0</span> │\n│ (<span style=\"color: #0087ff; text-decoration-color: #0087ff\">GlobalAveragePooling1D</span>)        │                        │               │\n├─────────────────────────────────┼────────────────────────┼───────────────┤\n│ dense_13 (<span style=\"color: #0087ff; text-decoration-color: #0087ff\">Dense</span>)                │ (<span style=\"color: #00d7ff; text-decoration-color: #00d7ff\">None</span>, <span style=\"color: #00af00; text-decoration-color: #00af00\">64</span>)             │         <span style=\"color: #00af00; text-decoration-color: #00af00\">1,088</span> │\n├─────────────────────────────────┼────────────────────────┼───────────────┤\n│ dense_14 (<span style=\"color: #0087ff; text-decoration-color: #0087ff\">Dense</span>)                │ (<span style=\"color: #00d7ff; text-decoration-color: #00d7ff\">None</span>, <span style=\"color: #00af00; text-decoration-color: #00af00\">32</span>)             │         <span style=\"color: #00af00; text-decoration-color: #00af00\">2,080</span> │\n├─────────────────────────────────┼────────────────────────┼───────────────┤\n│ dense_15 (<span style=\"color: #0087ff; text-decoration-color: #0087ff\">Dense</span>)                │ (<span style=\"color: #00d7ff; text-decoration-color: #00d7ff\">None</span>, <span style=\"color: #00af00; text-decoration-color: #00af00\">1</span>)              │            <span style=\"color: #00af00; text-decoration-color: #00af00\">33</span> │\n└─────────────────────────────────┴────────────────────────┴───────────────┘\n</pre>\n"
     },
     "metadata": {},
     "output_type": "display_data"
    },
    {
     "data": {
      "text/plain": "\u001B[1m Total params: \u001B[0m\u001B[38;5;34m4,007\u001B[0m (15.65 KB)\n",
      "text/html": "<pre style=\"white-space:pre;overflow-x:auto;line-height:normal;font-family:Menlo,'DejaVu Sans Mono',consolas,'Courier New',monospace\"><span style=\"font-weight: bold\"> Total params: </span><span style=\"color: #00af00; text-decoration-color: #00af00\">4,007</span> (15.65 KB)\n</pre>\n"
     },
     "metadata": {},
     "output_type": "display_data"
    },
    {
     "data": {
      "text/plain": "\u001B[1m Trainable params: \u001B[0m\u001B[38;5;34m3,963\u001B[0m (15.48 KB)\n",
      "text/html": "<pre style=\"white-space:pre;overflow-x:auto;line-height:normal;font-family:Menlo,'DejaVu Sans Mono',consolas,'Courier New',monospace\"><span style=\"font-weight: bold\"> Trainable params: </span><span style=\"color: #00af00; text-decoration-color: #00af00\">3,963</span> (15.48 KB)\n</pre>\n"
     },
     "metadata": {},
     "output_type": "display_data"
    },
    {
     "data": {
      "text/plain": "\u001B[1m Non-trainable params: \u001B[0m\u001B[38;5;34m44\u001B[0m (176.00 B)\n",
      "text/html": "<pre style=\"white-space:pre;overflow-x:auto;line-height:normal;font-family:Menlo,'DejaVu Sans Mono',consolas,'Courier New',monospace\"><span style=\"font-weight: bold\"> Non-trainable params: </span><span style=\"color: #00af00; text-decoration-color: #00af00\">44</span> (176.00 B)\n</pre>\n"
     },
     "metadata": {},
     "output_type": "display_data"
    }
   ],
   "source": [
    "lenet.summary()"
   ],
   "metadata": {
    "collapsed": false,
    "ExecuteTime": {
     "end_time": "2024-05-31T13:08:47.061761Z",
     "start_time": "2024-05-31T13:08:47.048117Z"
    }
   },
   "execution_count": 40
  },
  {
   "cell_type": "code",
   "outputs": [],
   "source": [
    "# As y_train, y_val, and y_test are one-hot encoded DataFrames we need to convert them to numpy arrays to be compatible with the model\n",
    "y_train_s = np.argmax(y_train_oh.values, axis=1)\n",
    "y_val_s= np.argmax(y_val_oh.values, axis=1)\n",
    "y_test_s = np.argmax(y_test_oh.values, axis=1)"
   ],
   "metadata": {
    "collapsed": false,
    "ExecuteTime": {
     "end_time": "2024-05-31T13:25:22.024349Z",
     "start_time": "2024-05-31T13:25:21.988273Z"
    }
   },
   "execution_count": 42
  },
  {
   "cell_type": "code",
   "outputs": [
    {
     "name": "stdout",
     "output_type": "stream",
     "text": [
      "Epoch 1/20\n",
      "\u001B[1m468/468\u001B[0m \u001B[32m━━━━━━━━━━━━━━━━━━━━\u001B[0m\u001B[37m\u001B[0m \u001B[1m6s\u001B[0m 11ms/step - AUC: 0.5001 - Precision: 0.7436 - Recall: 0.9197 - accuracy: 0.7042 - loss: 0.5984 - val_AUC: 0.5116 - val_Precision: 0.7478 - val_Recall: 1.0000 - val_accuracy: 0.7478 - val_loss: 0.5659\n",
      "Epoch 2/20\n",
      "\u001B[1m468/468\u001B[0m \u001B[32m━━━━━━━━━━━━━━━━━━━━\u001B[0m\u001B[37m\u001B[0m \u001B[1m3s\u001B[0m 7ms/step - AUC: 0.5195 - Precision: 0.7487 - Recall: 1.0000 - accuracy: 0.7487 - loss: 0.5646 - val_AUC: 0.5146 - val_Precision: 0.7478 - val_Recall: 1.0000 - val_accuracy: 0.7478 - val_loss: 0.5654\n",
      "Epoch 3/20\n",
      "\u001B[1m468/468\u001B[0m \u001B[32m━━━━━━━━━━━━━━━━━━━━\u001B[0m\u001B[37m\u001B[0m \u001B[1m3s\u001B[0m 6ms/step - AUC: 0.5141 - Precision: 0.7450 - Recall: 1.0000 - accuracy: 0.7450 - loss: 0.5683 - val_AUC: 0.5165 - val_Precision: 0.7478 - val_Recall: 1.0000 - val_accuracy: 0.7478 - val_loss: 0.5669\n",
      "Epoch 4/20\n",
      "\u001B[1m468/468\u001B[0m \u001B[32m━━━━━━━━━━━━━━━━━━━━\u001B[0m\u001B[37m\u001B[0m \u001B[1m3s\u001B[0m 6ms/step - AUC: 0.5284 - Precision: 0.7444 - Recall: 0.9999 - accuracy: 0.7444 - loss: 0.5677 - val_AUC: 0.5158 - val_Precision: 0.7478 - val_Recall: 1.0000 - val_accuracy: 0.7478 - val_loss: 0.5659\n",
      "Epoch 5/20\n",
      "\u001B[1m468/468\u001B[0m \u001B[32m━━━━━━━━━━━━━━━━━━━━\u001B[0m\u001B[37m\u001B[0m \u001B[1m3s\u001B[0m 7ms/step - AUC: 0.5355 - Precision: 0.7443 - Recall: 1.0000 - accuracy: 0.7444 - loss: 0.5669 - val_AUC: 0.5071 - val_Precision: 0.7477 - val_Recall: 0.9956 - val_accuracy: 0.7455 - val_loss: 0.5681\n",
      "Epoch 6/20\n",
      "\u001B[1m468/468\u001B[0m \u001B[32m━━━━━━━━━━━━━━━━━━━━\u001B[0m\u001B[37m\u001B[0m \u001B[1m3s\u001B[0m 6ms/step - AUC: 0.5403 - Precision: 0.7432 - Recall: 0.9996 - accuracy: 0.7430 - loss: 0.5674 - val_AUC: 0.5170 - val_Precision: 0.7480 - val_Recall: 0.9987 - val_accuracy: 0.7474 - val_loss: 0.5674\n",
      "Epoch 7/20\n",
      "\u001B[1m468/468\u001B[0m \u001B[32m━━━━━━━━━━━━━━━━━━━━\u001B[0m\u001B[37m\u001B[0m \u001B[1m3s\u001B[0m 6ms/step - AUC: 0.5354 - Precision: 0.7466 - Recall: 0.9998 - accuracy: 0.7465 - loss: 0.5642 - val_AUC: 0.5118 - val_Precision: 0.7476 - val_Recall: 0.9931 - val_accuracy: 0.7441 - val_loss: 0.5689\n",
      "Epoch 8/20\n",
      "\u001B[1m468/468\u001B[0m \u001B[32m━━━━━━━━━━━━━━━━━━━━\u001B[0m\u001B[37m\u001B[0m \u001B[1m3s\u001B[0m 7ms/step - AUC: 0.5509 - Precision: 0.7421 - Recall: 0.9992 - accuracy: 0.7419 - loss: 0.5682 - val_AUC: 0.5041 - val_Precision: 0.7478 - val_Recall: 1.0000 - val_accuracy: 0.7478 - val_loss: 0.5668\n",
      "Epoch 9/20\n",
      "\u001B[1m468/468\u001B[0m \u001B[32m━━━━━━━━━━━━━━━━━━━━\u001B[0m\u001B[37m\u001B[0m \u001B[1m4s\u001B[0m 8ms/step - AUC: 0.5506 - Precision: 0.7420 - Recall: 0.9998 - accuracy: 0.7420 - loss: 0.5672 - val_AUC: 0.5108 - val_Precision: 0.7474 - val_Recall: 0.9931 - val_accuracy: 0.7439 - val_loss: 0.5694\n",
      "Epoch 10/20\n",
      "\u001B[1m468/468\u001B[0m \u001B[32m━━━━━━━━━━━━━━━━━━━━\u001B[0m\u001B[37m\u001B[0m \u001B[1m3s\u001B[0m 6ms/step - AUC: 0.5545 - Precision: 0.7458 - Recall: 0.9986 - accuracy: 0.7455 - loss: 0.5637 - val_AUC: 0.5248 - val_Precision: 0.7478 - val_Recall: 1.0000 - val_accuracy: 0.7478 - val_loss: 0.5650\n",
      "Epoch 11/20\n",
      "\u001B[1m468/468\u001B[0m \u001B[32m━━━━━━━━━━━━━━━━━━━━\u001B[0m\u001B[37m\u001B[0m \u001B[1m3s\u001B[0m 6ms/step - AUC: 0.5527 - Precision: 0.7431 - Recall: 0.9999 - accuracy: 0.7431 - loss: 0.5663 - val_AUC: 0.5082 - val_Precision: 0.7477 - val_Recall: 0.9953 - val_accuracy: 0.7453 - val_loss: 0.5708\n",
      "Epoch 12/20\n",
      "\u001B[1m468/468\u001B[0m \u001B[32m━━━━━━━━━━━━━━━━━━━━\u001B[0m\u001B[37m\u001B[0m \u001B[1m3s\u001B[0m 6ms/step - AUC: 0.5606 - Precision: 0.7403 - Recall: 0.9982 - accuracy: 0.7395 - loss: 0.5683 - val_AUC: 0.5158 - val_Precision: 0.7483 - val_Recall: 0.9997 - val_accuracy: 0.7483 - val_loss: 0.5678\n",
      "Epoch 13/20\n",
      "\u001B[1m468/468\u001B[0m \u001B[32m━━━━━━━━━━━━━━━━━━━━\u001B[0m\u001B[37m\u001B[0m \u001B[1m3s\u001B[0m 6ms/step - AUC: 0.5588 - Precision: 0.7362 - Recall: 0.9995 - accuracy: 0.7361 - loss: 0.5731 - val_AUC: 0.5136 - val_Precision: 0.7481 - val_Recall: 0.9997 - val_accuracy: 0.7481 - val_loss: 0.5682\n",
      "Epoch 14/20\n",
      "\u001B[1m468/468\u001B[0m \u001B[32m━━━━━━━━━━━━━━━━━━━━\u001B[0m\u001B[37m\u001B[0m \u001B[1m3s\u001B[0m 6ms/step - AUC: 0.5673 - Precision: 0.7363 - Recall: 0.9997 - accuracy: 0.7363 - loss: 0.5715 - val_AUC: 0.5185 - val_Precision: 0.7478 - val_Recall: 0.9897 - val_accuracy: 0.7427 - val_loss: 0.5715\n",
      "Epoch 15/20\n",
      "\u001B[1m468/468\u001B[0m \u001B[32m━━━━━━━━━━━━━━━━━━━━\u001B[0m\u001B[37m\u001B[0m \u001B[1m3s\u001B[0m 6ms/step - AUC: 0.5628 - Precision: 0.7426 - Recall: 0.9992 - accuracy: 0.7424 - loss: 0.5655 - val_AUC: 0.5070 - val_Precision: 0.7474 - val_Recall: 0.9937 - val_accuracy: 0.7441 - val_loss: 0.5713\n",
      "Epoch 16/20\n",
      "\u001B[1m468/468\u001B[0m \u001B[32m━━━━━━━━━━━━━━━━━━━━\u001B[0m\u001B[37m\u001B[0m \u001B[1m3s\u001B[0m 6ms/step - AUC: 0.5712 - Precision: 0.7355 - Recall: 0.9990 - accuracy: 0.7351 - loss: 0.5713 - val_AUC: 0.5098 - val_Precision: 0.7479 - val_Recall: 0.9956 - val_accuracy: 0.7457 - val_loss: 0.5704\n",
      "Epoch 17/20\n",
      "\u001B[1m468/468\u001B[0m \u001B[32m━━━━━━━━━━━━━━━━━━━━\u001B[0m\u001B[37m\u001B[0m \u001B[1m3s\u001B[0m 7ms/step - AUC: 0.5707 - Precision: 0.7398 - Recall: 0.9985 - accuracy: 0.7393 - loss: 0.5675 - val_AUC: 0.5122 - val_Precision: 0.7476 - val_Recall: 0.9944 - val_accuracy: 0.7448 - val_loss: 0.5716\n",
      "Epoch 18/20\n",
      "\u001B[1m468/468\u001B[0m \u001B[32m━━━━━━━━━━━━━━━━━━━━\u001B[0m\u001B[37m\u001B[0m \u001B[1m3s\u001B[0m 6ms/step - AUC: 0.5678 - Precision: 0.7466 - Recall: 0.9985 - accuracy: 0.7462 - loss: 0.5604 - val_AUC: 0.5175 - val_Precision: 0.7481 - val_Recall: 0.9984 - val_accuracy: 0.7474 - val_loss: 0.5687\n",
      "Epoch 19/20\n",
      "\u001B[1m468/468\u001B[0m \u001B[32m━━━━━━━━━━━━━━━━━━━━\u001B[0m\u001B[37m\u001B[0m \u001B[1m3s\u001B[0m 6ms/step - AUC: 0.5744 - Precision: 0.7445 - Recall: 0.9987 - accuracy: 0.7440 - loss: 0.5613 - val_AUC: 0.5198 - val_Precision: 0.7476 - val_Recall: 0.9969 - val_accuracy: 0.7460 - val_loss: 0.5681\n",
      "Epoch 20/20\n",
      "\u001B[1m468/468\u001B[0m \u001B[32m━━━━━━━━━━━━━━━━━━━━\u001B[0m\u001B[37m\u001B[0m \u001B[1m3s\u001B[0m 7ms/step - AUC: 0.5761 - Precision: 0.7486 - Recall: 0.9988 - accuracy: 0.7483 - loss: 0.5576 - val_AUC: 0.5169 - val_Precision: 0.7471 - val_Recall: 0.9887 - val_accuracy: 0.7413 - val_loss: 0.5762\n"
     ]
    },
    {
     "data": {
      "text/plain": "<keras.src.callbacks.history.History at 0x28ef1ce20>"
     },
     "execution_count": 43,
     "metadata": {},
     "output_type": "execute_result"
    }
   ],
   "source": [
    "lenet.fit(X_train, y_train_s, validation_data=(X_val, y_val_s), epochs=20, batch_size=32)"
   ],
   "metadata": {
    "collapsed": false,
    "ExecuteTime": {
     "end_time": "2024-05-31T13:26:45.234Z",
     "start_time": "2024-05-31T13:25:35.617605Z"
    }
   },
   "execution_count": 43
  },
  {
   "cell_type": "code",
   "outputs": [
    {
     "data": {
      "text/plain": "<Figure size 1000x600 with 1 Axes>",
      "image/png": "[encoded data removed]"
     },
     "metadata": {},
     "output_type": "display_data"
    }
   ],
   "source": [
    "# plot the training Rcall and validation Recall, Precision, accuracy\n",
    "plt.figure(figsize=(10, 6))\n",
    "plt.plot(lenet.history.history['Recall'])\n",
    "plt.plot(lenet.history.history['val_Recall'])\n",
    "plt.plot(lenet.history.history['Precision'])\n",
    "plt.plot(lenet.history.history['val_Precision'])\n",
    "plt.plot(lenet.history.history['accuracy'])\n",
    "plt.plot(lenet.history.history['val_accuracy'])\n",
    "plt.legend(['Recall', 'val_Recall', 'Precision', 'val_Precision', 'accuracy', 'val_accuracy'])\n",
    "plt.show()"
   ],
   "metadata": {
    "collapsed": false,
    "ExecuteTime": {
     "end_time": "2024-05-31T14:24:52.819268Z",
     "start_time": "2024-05-31T14:24:52.714731Z"
    }
   },
   "execution_count": 46
  },
  {
   "cell_type": "code",
   "outputs": [
    {
     "data": {
      "text/plain": "<Figure size 640x480 with 1 Axes>",
      "image/png": "[encoded data removed]"
     },
     "metadata": {},
     "output_type": "display_data"
    }
   ],
   "source": [
    "plt. plot(lenet.history.history['AUC'])\n",
    "plt.plot(lenet.history.history['Recall'])\n",
    "plt.plot(lenet.history.history['Precision'])\n",
    "plt.legend(['AUC', 'Recall', 'Precision'])\n",
    "plt.show()"
   ],
   "metadata": {
    "collapsed": false,
    "ExecuteTime": {
     "end_time": "2024-05-31T14:27:00.830525Z",
     "start_time": "2024-05-31T14:27:00.740620Z"
    }
   },
   "execution_count": 48
  },
  {
   "cell_type": "code",
   "outputs": [
    {
     "data": {
      "text/plain": "<Figure size 640x480 with 1 Axes>",
      "image/png": "[encoded data removed]"
     },
     "metadata": {},
     "output_type": "display_data"
    }
   ],
   "source": [
    "# loss and accuracy\n",
    "plt.plot(lenet.history.history['loss'])\n",
    "plt.plot(lenet.history.history['val_loss'])\n",
    "plt.legend(['loss', 'val_loss'])\n",
    "plt.show()"
   ],
   "metadata": {
    "collapsed": false,
    "ExecuteTime": {
     "end_time": "2024-05-31T14:29:14.758871Z",
     "start_time": "2024-05-31T14:29:14.668756Z"
    }
   },
   "execution_count": 49
  },
  {
   "cell_type": "code",
   "outputs": [
    {
     "name": "stdout",
     "output_type": "stream",
     "text": [
      "\u001B[1m68/68\u001B[0m \u001B[32m━━━━━━━━━━━━━━━━━━━━\u001B[0m\u001B[37m\u001B[0m \u001B[1m0s\u001B[0m 2ms/step - AUC: 0.5469 - Precision: 0.7772 - Recall: 0.9943 - accuracy: 0.7745 - loss: 0.5439\n"
     ]
    },
    {
     "data": {
      "text/plain": "[0.5749102234840393,\n 0.743280827999115,\n 0.9944030046463013,\n 0.7458022236824036,\n 0.528241753578186]"
     },
     "execution_count": 50,
     "metadata": {},
     "output_type": "execute_result"
    }
   ],
   "source": [
    "# Evaluate the model on the test set\n",
    "lenet.evaluate(X_test, y_test_s)"
   ],
   "metadata": {
    "collapsed": false,
    "ExecuteTime": {
     "end_time": "2024-05-31T14:30:51.425957Z",
     "start_time": "2024-05-31T14:30:50.310278Z"
    }
   },
   "execution_count": 50
  },
  {
   "cell_type": "markdown",
   "source": [
    "### Conclusion for the LeNet-5 architecture\n",
    "- Tnhe most important metrics for this classification problem are Recall\n",
    "- The model has an Recall of 0.99 on the test set, which is a good result and means that the model is able to correctly identify 99% of the positive cases of Myocardial Infarction.\n",
    "- The Precision is still need to be improved, as it is only 0.77, which means that the model is able to correctly identify 74% of the positive cases of Myocardial Infarction."
   ],
   "metadata": {
    "collapsed": false
   }
  },
  {
   "cell_type": "code",
   "outputs": [
    {
     "name": "stderr",
     "output_type": "stream",
     "text": [
      "WARNING:absl:You are saving your model as an HDF5 file via `model.save()` or `keras.saving.save_model(model)`. This file format is considered legacy. We recommend using instead the native Keras format, e.g. `model.save('my_model.keras')` or `keras.saving.save_model(model, 'my_model.keras')`. \n"
     ]
    }
   ],
   "source": [
    "# create and Save the model to the folder models\n",
    "lenet.save('models/lenet_model.h5')"
   ],
   "metadata": {
    "collapsed": false,
    "ExecuteTime": {
     "end_time": "2024-05-31T16:28:06.032996Z",
     "start_time": "2024-05-31T16:28:05.907832Z"
    }
   },
   "execution_count": 55
  }
 ],
 "metadata": {
  "kernelspec": {
   "display_name": "saturdais",
   "language": "python",
   "name": "python3"
  },
  "language_info": {
   "codemirror_mode": {
    "name": "ipython",
    "version": 3
   },
   "file_extension": ".py",
   "mimetype": "text/x-python",
   "name": "python",
   "nbconvert_exporter": "python",
   "pygments_lexer": "ipython3",
   "version": "3.11.6"
  }
 },
 "nbformat": 4,
 "nbformat_minor": 2
}
