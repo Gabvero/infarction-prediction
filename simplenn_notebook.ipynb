{
 "cells": [
  {
   "cell_type": "markdown",
   "metadata": {},
   "source": [
    "## Data loading"
   ]
  },
  {
   "cell_type": "markdown",
   "metadata": {},
   "source": [
    "Sources: \n",
    "- https://physionet.org/content/ptb-xl/1.0.3/\n",
    "\n",
    "\n",
    "The code comes with a script to load the data, I have taken inspiration from most of it https://physionet.org/content/ptb-xl/1.0.3/example_physionet.py"
   ]
  },
  {
   "cell_type": "markdown",
   "source": [
    "### Importing the necessary libraries"
   ],
   "metadata": {
    "collapsed": false
   }
  },
  {
   "cell_type": "code",
   "outputs": [],
   "source": [
    "import numpy as np\n",
    "import pandas as pd\n",
    "import matplotlib.pyplot as plt\n",
    "from sklearn.preprocessing import MultiLabelBinarizer\n",
    "import tensorflow as tf\n",
    "from tensorflow.keras import Sequential\n",
    "from tensorflow.keras.layers import Dense, Conv1D, MaxPooling1D, Flatten, Dropout, Input, concatenate\n"
   ],
   "metadata": {
    "collapsed": false,
    "ExecuteTime": {
     "end_time": "2024-05-24T19:28:03.060476Z",
     "start_time": "2024-05-24T19:28:03.049791Z"
    }
   },
   "execution_count": 3
  },
  {
   "cell_type": "code",
   "execution_count": 4,
   "metadata": {
    "ExecuteTime": {
     "end_time": "2024-05-24T19:28:35.515932Z",
     "start_time": "2024-05-24T19:28:07.876704Z"
    }
   },
   "outputs": [],
   "source": [
    "from data_loading_utils import load_data_from_directory\n",
    "\n",
    "X, Y, df = load_data_from_directory(\"data/\", sampling_rate=100)"
   ]
  },
  {
   "cell_type": "code",
   "outputs": [
    {
     "data": {
      "text/plain": "                          description  diagnostic  form  rhythm  \\\nNDT    non-diagnostic T abnormalities         1.0   1.0     NaN   \nNST_          non-specific ST changes         1.0   1.0     NaN   \nDIG                  digitalis-effect         1.0   1.0     NaN   \nLNGQT                long QT-interval         1.0   1.0     NaN   \nNORM                       normal ECG         1.0   NaN     NaN   \n\n      diagnostic_class diagnostic_subclass  \\\nNDT               STTC                STTC   \nNST_              STTC                NST_   \nDIG               STTC                STTC   \nLNGQT             STTC                STTC   \nNORM              NORM                NORM   \n\n                                      Statement Category  \\\nNDT                    other ST-T descriptive statements   \nNST_   Basic roots for coding ST-T changes and abnorm...   \nDIG                    other ST-T descriptive statements   \nLNGQT                  other ST-T descriptive statements   \nNORM                                     Normal/abnormal   \n\n        SCP-ECG Statement Description  AHA code            aECG REFID  \\\nNDT    non-diagnostic T abnormalities       NaN                   NaN   \nNST_          non-specific ST changes     145.0  MDC_ECG_RHY_STHILOST   \nDIG         suggests digitalis-effect     205.0                   NaN   \nLNGQT                long QT-interval     148.0                   NaN   \nNORM                       normal ECG       1.0                   NaN   \n\n      CDISC Code DICOM Code  \nNDT          NaN        NaN  \nNST_         NaN        NaN  \nDIG          NaN        NaN  \nLNGQT        NaN        NaN  \nNORM         NaN    F-000B7  ",
      "text/html": "<div>\n<style scoped>\n    .dataframe tbody tr th:only-of-type {\n        vertical-align: middle;\n    }\n\n    .dataframe tbody tr th {\n        vertical-align: top;\n    }\n\n    .dataframe thead th {\n        text-align: right;\n    }\n</style>\n<table border=\"1\" class=\"dataframe\">\n  <thead>\n    <tr style=\"text-align: right;\">\n      <th></th>\n      <th>description</th>\n      <th>diagnostic</th>\n      <th>form</th>\n      <th>rhythm</th>\n      <th>diagnostic_class</th>\n      <th>diagnostic_subclass</th>\n      <th>Statement Category</th>\n      <th>SCP-ECG Statement Description</th>\n      <th>AHA code</th>\n      <th>aECG REFID</th>\n      <th>CDISC Code</th>\n      <th>DICOM Code</th>\n    </tr>\n  </thead>\n  <tbody>\n    <tr>\n      <th>NDT</th>\n      <td>non-diagnostic T abnormalities</td>\n      <td>1.0</td>\n      <td>1.0</td>\n      <td>NaN</td>\n      <td>STTC</td>\n      <td>STTC</td>\n      <td>other ST-T descriptive statements</td>\n      <td>non-diagnostic T abnormalities</td>\n      <td>NaN</td>\n      <td>NaN</td>\n      <td>NaN</td>\n      <td>NaN</td>\n    </tr>\n    <tr>\n      <th>NST_</th>\n      <td>non-specific ST changes</td>\n      <td>1.0</td>\n      <td>1.0</td>\n      <td>NaN</td>\n      <td>STTC</td>\n      <td>NST_</td>\n      <td>Basic roots for coding ST-T changes and abnorm...</td>\n      <td>non-specific ST changes</td>\n      <td>145.0</td>\n      <td>MDC_ECG_RHY_STHILOST</td>\n      <td>NaN</td>\n      <td>NaN</td>\n    </tr>\n    <tr>\n      <th>DIG</th>\n      <td>digitalis-effect</td>\n      <td>1.0</td>\n      <td>1.0</td>\n      <td>NaN</td>\n      <td>STTC</td>\n      <td>STTC</td>\n      <td>other ST-T descriptive statements</td>\n      <td>suggests digitalis-effect</td>\n      <td>205.0</td>\n      <td>NaN</td>\n      <td>NaN</td>\n      <td>NaN</td>\n    </tr>\n    <tr>\n      <th>LNGQT</th>\n      <td>long QT-interval</td>\n      <td>1.0</td>\n      <td>1.0</td>\n      <td>NaN</td>\n      <td>STTC</td>\n      <td>STTC</td>\n      <td>other ST-T descriptive statements</td>\n      <td>long QT-interval</td>\n      <td>148.0</td>\n      <td>NaN</td>\n      <td>NaN</td>\n      <td>NaN</td>\n    </tr>\n    <tr>\n      <th>NORM</th>\n      <td>normal ECG</td>\n      <td>1.0</td>\n      <td>NaN</td>\n      <td>NaN</td>\n      <td>NORM</td>\n      <td>NORM</td>\n      <td>Normal/abnormal</td>\n      <td>normal ECG</td>\n      <td>1.0</td>\n      <td>NaN</td>\n      <td>NaN</td>\n      <td>F-000B7</td>\n    </tr>\n  </tbody>\n</table>\n</div>"
     },
     "execution_count": 5,
     "metadata": {},
     "output_type": "execute_result"
    }
   ],
   "source": [
    "df.head()"
   ],
   "metadata": {
    "collapsed": false,
    "ExecuteTime": {
     "end_time": "2024-05-24T19:28:35.558352Z",
     "start_time": "2024-05-24T19:28:35.522327Z"
    }
   },
   "execution_count": 5
  },
  {
   "cell_type": "code",
   "outputs": [
    {
     "data": {
      "text/plain": "diagnostic_class\nMI      14\nSTTC    13\nCD      11\nHYP      5\nNORM     1\nName: count, dtype: int64"
     },
     "execution_count": 6,
     "metadata": {},
     "output_type": "execute_result"
    }
   ],
   "source": [
    "df['diagnostic_class'].value_counts()"
   ],
   "metadata": {
    "collapsed": false,
    "ExecuteTime": {
     "end_time": "2024-05-24T19:28:35.575043Z",
     "start_time": "2024-05-24T19:28:35.559073Z"
    }
   },
   "execution_count": 6
  },
  {
   "cell_type": "markdown",
   "source": [
    "### Data Exploration"
   ],
   "metadata": {
    "collapsed": false
   }
  },
  {
   "cell_type": "code",
   "outputs": [
    {
     "name": "stdout",
     "output_type": "stream",
     "text": [
      "<class 'pandas.core.frame.DataFrame'>\n",
      "Index: 21799 entries, 1 to 21837\n",
      "Data columns (total 28 columns):\n",
      " #   Column                        Non-Null Count  Dtype  \n",
      "---  ------                        --------------  -----  \n",
      " 0   patient_id                    21799 non-null  float64\n",
      " 1   age                           21799 non-null  float64\n",
      " 2   sex                           21799 non-null  int64  \n",
      " 3   height                        6974 non-null   float64\n",
      " 4   weight                        9421 non-null   float64\n",
      " 5   nurse                         20326 non-null  float64\n",
      " 6   site                          21782 non-null  float64\n",
      " 7   device                        21799 non-null  object \n",
      " 8   recording_date                21799 non-null  object \n",
      " 9   report                        21799 non-null  object \n",
      " 10  scp_codes                     21799 non-null  object \n",
      " 11  heart_axis                    13331 non-null  object \n",
      " 12  infarction_stadium1           5612 non-null   object \n",
      " 13  infarction_stadium2           103 non-null    object \n",
      " 14  validated_by                  12421 non-null  float64\n",
      " 15  second_opinion                21799 non-null  bool   \n",
      " 16  initial_autogenerated_report  21799 non-null  bool   \n",
      " 17  validated_by_human            21799 non-null  bool   \n",
      " 18  baseline_drift                1598 non-null   object \n",
      " 19  static_noise                  3260 non-null   object \n",
      " 20  burst_noise                   613 non-null    object \n",
      " 21  electrodes_problems           30 non-null     object \n",
      " 22  extra_beats                   1949 non-null   object \n",
      " 23  pacemaker                     291 non-null    object \n",
      " 24  strat_fold                    21799 non-null  int64  \n",
      " 25  filename_lr                   21799 non-null  object \n",
      " 26  filename_hr                   21799 non-null  object \n",
      " 27  diagnostic_superclass         21799 non-null  object \n",
      "dtypes: bool(3), float64(7), int64(2), object(16)\n",
      "memory usage: 4.4+ MB\n"
     ]
    }
   ],
   "source": [
    "Y.info()"
   ],
   "metadata": {
    "collapsed": false,
    "ExecuteTime": {
     "end_time": "2024-05-24T19:28:35.629165Z",
     "start_time": "2024-05-24T19:28:35.576249Z"
    }
   },
   "execution_count": 7
  },
  {
   "cell_type": "code",
   "outputs": [
    {
     "data": {
      "text/plain": "diagnostic_superclass\n[NORM]                 9069\n[MI]                   2532\n[STTC]                 2400\n[CD]                   1708\n[MI, CD]               1297\n[HYP, STTC]             781\n[MI, STTC]              599\n[HYP]                   535\n[]                      411\n[NORM, CD]              407\n[HYP, MI, STTC]         361\n[HYP, CD]               300\n[STTC, CD]              270\n[CD, STTC]              201\n[HYP, MI]               183\n[HYP, CD, STTC]         127\n[STTC, MI, CD]          118\n[HYP, MI, CD]           117\n[CD, MI, STTC]          105\n[HYP, CD, MI, STTC]     103\n[HYP, STTC, CD]          84\n[HYP, STTC, MI, CD]      53\n[NORM, STTC]             28\n[STTC, NORM, CD]          5\n[HYP, NORM, CD]           2\n[HYP, NORM]               2\n[HYP, NORM, MI, CD]       1\nName: count, dtype: int64"
     },
     "execution_count": 8,
     "metadata": {},
     "output_type": "execute_result"
    }
   ],
   "source": [
    "# Check the shape of the data and labels distributions\n",
    "Y['diagnostic_superclass'].value_counts()"
   ],
   "metadata": {
    "collapsed": false,
    "ExecuteTime": {
     "end_time": "2024-05-24T19:28:35.638042Z",
     "start_time": "2024-05-24T19:28:35.629988Z"
    }
   },
   "execution_count": 8
  },
  {
   "cell_type": "code",
   "outputs": [
    {
     "data": {
      "text/plain": "0"
     },
     "execution_count": 9,
     "metadata": {},
     "output_type": "execute_result"
    }
   ],
   "source": [
    "# check the missing values in the labels 'diagnostic_superclass'\n",
    "Y['diagnostic_superclass'].isnull().sum()"
   ],
   "metadata": {
    "collapsed": false,
    "ExecuteTime": {
     "end_time": "2024-05-24T19:28:35.641876Z",
     "start_time": "2024-05-24T19:28:35.639054Z"
    }
   },
   "execution_count": 9
  },
  {
   "cell_type": "markdown",
   "source": [
    "#### Main points\n",
    "- The dataset consists of 21837 ECG recordings, each with 12 leads.\n",
    "- The ECGs are sampled at 100 Hz, with a duration of 10 seconds.\n",
    "- The dataset includes 5 diagnostic superclass categories.\n",
    "- the dataset is imbalanced, with some classes having a large number of samples, while others have very few.\n",
    "- there are 411 missing values in the diagnostic superclass categories, which are represented as NaNs.\n"
   ],
   "metadata": {
    "collapsed": false
   }
  },
  {
   "cell_type": "markdown",
   "source": [
    "### Cardiac Diagnoses\n",
    "\n",
    "#### NORM (Normal ECG)\n",
    "- **Description**: This diagnosis indicates a normal electrocardiogram (ECG), meaning there are no significant abnormalities in the heart's electrical activity. The heart rhythm and waveforms fall within the typical range for a healthy individual.\n",
    "\n",
    "#### MI (Myocardial Infarction)\n",
    "- **Description**: Myocardial Infarction, commonly known as a heart attack, is characterized by the interruption of blood flow to a part of the heart, causing damage to the heart muscle. On an ECG, it may present as ST elevation, T wave inversion, or the development of Q waves, among other changes.\n",
    "\n",
    "#### STTC (ST/T Change)\n",
    "- **Description**: ST/T changes refer to abnormalities in the ST segment and T wave of the ECG. These changes can indicate various conditions, such as ischemia (reduced blood flow to the heart), electrolyte imbalances, or other cardiac pathologies. The specific nature of the change provides clues about the underlying condition.\n",
    "\n",
    "#### CD (Conduction Disturbance)\n",
    "- **Description**: Conduction disturbances involve abnormalities in the electrical conduction system of the heart, which can affect the timing and coordination of heartbeats. Examples include bundle branch blocks, atrioventricular (AV) blocks, and other forms of heart block. These are reflected on the ECG as altered intervals and waveforms.\n",
    "\n",
    "#### HYP (Hypertrophy)\n",
    "- **Description**: Hypertrophy refers to the thickening of the heart muscle, typically the result of increased workload or pressure. It is commonly seen in conditions such as hypertension or valvular heart disease. On an ECG, hypertrophy may present as increased voltage of QRS complexes, prolonged QRS duration, and changes in the ST segment and T waves.\n",
    "\n",
    "This structured format categorizes the diagnoses based on their unique identifier, abbreviation, and a detailed description of each condition."
   ],
   "metadata": {
    "collapsed": false
   }
  },
  {
   "cell_type": "code",
   "execution_count": 10,
   "metadata": {
    "ExecuteTime": {
     "end_time": "2024-05-24T19:28:40.520531Z",
     "start_time": "2024-05-24T19:28:35.643943Z"
    }
   },
   "outputs": [
    {
     "name": "stdout",
     "output_type": "stream",
     "text": [
      "X_train shape: (15245, 1000, 12)\n",
      "X_test shape: (2198, 1000, 12)\n",
      "y_train shape: (15245,)\n",
      "y_test shape: (2198,)\n",
      "X_val shape: (4356, 1000, 12)\n",
      "y_val shape: (4356,)\n"
     ]
    }
   ],
   "source": [
    "from data_loading_utils import get_train_test_split\n",
    "\n",
    "# Assuming X and Y have been loaded using the previous functions\n",
    "\n",
    "# # Get train and test splits\n",
    "# X_train, X_test, y_train, y_test = get_train_test_split(X, Y, test_fold=10)\n",
    "# \n",
    "# # Print shapes of the datasets\n",
    "# print(\"X_train shape:\", X_train.shape)\n",
    "# print(\"X_test shape:\", X_test.shape)\n",
    "# print(\"y_train shape:\", y_train.shape)\n",
    "# print(\"y_test shape:\", y_test.shape)\n",
    "\n",
    "# If you also want to get validation splits\n",
    "X_train, X_test, y_train, y_test, X_val, y_val = get_train_test_split(X, Y, test_fold=10, validation=True)\n",
    "\n",
    "# Print shapes of the datasets including validation\n",
    "print(\"X_train shape:\", X_train.shape)\n",
    "print(\"X_test shape:\", X_test.shape)\n",
    "print(\"y_train shape:\", y_train.shape)\n",
    "print(\"y_test shape:\", y_test.shape)\n",
    "print(\"X_val shape:\", X_val.shape)\n",
    "print(\"y_val shape:\", y_val.shape)\n"
   ]
  },
  {
   "cell_type": "code",
   "execution_count": 11,
   "metadata": {
    "ExecuteTime": {
     "end_time": "2024-05-24T19:28:40.867169Z",
     "start_time": "2024-05-24T19:28:40.524443Z"
    }
   },
   "outputs": [
    {
     "name": "stdout",
     "output_type": "stream",
     "text": [
      "        patient_id   age  sex  height  weight  nurse  site     device  \\\n",
      "ecg_id                                                                  \n",
      "1          15709.0  56.0    1     NaN    63.0    2.0   0.0  CS-12   E   \n",
      "2          13243.0  19.0    0     NaN    70.0    2.0   0.0  CS-12   E   \n",
      "3          20372.0  37.0    1     NaN    69.0    2.0   0.0  CS-12   E   \n",
      "4          17014.0  24.0    0     NaN    82.0    2.0   0.0  CS-12   E   \n",
      "5          17448.0  19.0    1     NaN    70.0    2.0   0.0  CS-12   E   \n",
      "\n",
      "             recording_date                                  report  ...  \\\n",
      "ecg_id                                                               ...   \n",
      "1       1984-11-09 09:17:34  sinusrhythmus periphere niederspannung  ...   \n",
      "2       1984-11-14 12:55:37     sinusbradykardie sonst normales ekg  ...   \n",
      "3       1984-11-15 12:49:10              sinusrhythmus normales ekg  ...   \n",
      "4       1984-11-15 13:44:57              sinusrhythmus normales ekg  ...   \n",
      "5       1984-11-17 10:43:15              sinusrhythmus normales ekg  ...   \n",
      "\n",
      "       validated_by_human  baseline_drift static_noise burst_noise  \\\n",
      "ecg_id                                                               \n",
      "1                    True             NaN    , I-V1,           NaN   \n",
      "2                    True             NaN          NaN         NaN   \n",
      "3                    True             NaN          NaN         NaN   \n",
      "4                    True    , II,III,AVF          NaN         NaN   \n",
      "5                    True   , III,AVR,AVF          NaN         NaN   \n",
      "\n",
      "        electrodes_problems  extra_beats  pacemaker  strat_fold  \\\n",
      "ecg_id                                                            \n",
      "1                       NaN          NaN        NaN           3   \n",
      "2                       NaN          NaN        NaN           2   \n",
      "3                       NaN          NaN        NaN           5   \n",
      "4                       NaN          NaN        NaN           3   \n",
      "5                       NaN          NaN        NaN           4   \n",
      "\n",
      "                      filename_lr                filename_hr  \n",
      "ecg_id                                                        \n",
      "1       records100/00000/00001_lr  records500/00000/00001_hr  \n",
      "2       records100/00000/00002_lr  records500/00000/00002_hr  \n",
      "3       records100/00000/00003_lr  records500/00000/00003_hr  \n",
      "4       records100/00000/00004_lr  records500/00000/00004_hr  \n",
      "5       records100/00000/00005_lr  records500/00000/00005_hr  \n",
      "\n",
      "[5 rows x 27 columns]\n"
     ]
    }
   ],
   "source": [
    "# Path to the data, I have just included the whole directory that you download under data\n",
    "path = './data/'\n",
    "\n",
    "patient_data = pd.read_csv(path + 'ptbxl_database.csv', index_col='ecg_id')\n",
    "\n",
    "print(patient_data.head())\n",
    "\n",
    "patient_data.to_csv('patient_data.csv', index=True)\n"
   ]
  },
  {
   "cell_type": "code",
   "outputs": [
    {
     "data": {
      "text/plain": "        patient_id   age  sex  height  weight  nurse  site     device  \\\necg_id                                                                  \n1          15709.0  56.0    1     NaN    63.0    2.0   0.0  CS-12   E   \n2          13243.0  19.0    0     NaN    70.0    2.0   0.0  CS-12   E   \n3          20372.0  37.0    1     NaN    69.0    2.0   0.0  CS-12   E   \n4          17014.0  24.0    0     NaN    82.0    2.0   0.0  CS-12   E   \n5          17448.0  19.0    1     NaN    70.0    2.0   0.0  CS-12   E   \n\n             recording_date                                  report  ...  \\\necg_id                                                               ...   \n1       1984-11-09 09:17:34  sinusrhythmus periphere niederspannung  ...   \n2       1984-11-14 12:55:37     sinusbradykardie sonst normales ekg  ...   \n3       1984-11-15 12:49:10              sinusrhythmus normales ekg  ...   \n4       1984-11-15 13:44:57              sinusrhythmus normales ekg  ...   \n5       1984-11-17 10:43:15              sinusrhythmus normales ekg  ...   \n\n       validated_by_human  baseline_drift static_noise burst_noise  \\\necg_id                                                               \n1                    True             NaN    , I-V1,           NaN   \n2                    True             NaN          NaN         NaN   \n3                    True             NaN          NaN         NaN   \n4                    True    , II,III,AVF          NaN         NaN   \n5                    True   , III,AVR,AVF          NaN         NaN   \n\n        electrodes_problems  extra_beats  pacemaker  strat_fold  \\\necg_id                                                            \n1                       NaN          NaN        NaN           3   \n2                       NaN          NaN        NaN           2   \n3                       NaN          NaN        NaN           5   \n4                       NaN          NaN        NaN           3   \n5                       NaN          NaN        NaN           4   \n\n                      filename_lr                filename_hr  \necg_id                                                        \n1       records100/00000/00001_lr  records500/00000/00001_hr  \n2       records100/00000/00002_lr  records500/00000/00002_hr  \n3       records100/00000/00003_lr  records500/00000/00003_hr  \n4       records100/00000/00004_lr  records500/00000/00004_hr  \n5       records100/00000/00005_lr  records500/00000/00005_hr  \n\n[5 rows x 27 columns]",
      "text/html": "<div>\n<style scoped>\n    .dataframe tbody tr th:only-of-type {\n        vertical-align: middle;\n    }\n\n    .dataframe tbody tr th {\n        vertical-align: top;\n    }\n\n    .dataframe thead th {\n        text-align: right;\n    }\n</style>\n<table border=\"1\" class=\"dataframe\">\n  <thead>\n    <tr style=\"text-align: right;\">\n      <th></th>\n      <th>patient_id</th>\n      <th>age</th>\n      <th>sex</th>\n      <th>height</th>\n      <th>weight</th>\n      <th>nurse</th>\n      <th>site</th>\n      <th>device</th>\n      <th>recording_date</th>\n      <th>report</th>\n      <th>...</th>\n      <th>validated_by_human</th>\n      <th>baseline_drift</th>\n      <th>static_noise</th>\n      <th>burst_noise</th>\n      <th>electrodes_problems</th>\n      <th>extra_beats</th>\n      <th>pacemaker</th>\n      <th>strat_fold</th>\n      <th>filename_lr</th>\n      <th>filename_hr</th>\n    </tr>\n    <tr>\n      <th>ecg_id</th>\n      <th></th>\n      <th></th>\n      <th></th>\n      <th></th>\n      <th></th>\n      <th></th>\n      <th></th>\n      <th></th>\n      <th></th>\n      <th></th>\n      <th></th>\n      <th></th>\n      <th></th>\n      <th></th>\n      <th></th>\n      <th></th>\n      <th></th>\n      <th></th>\n      <th></th>\n      <th></th>\n      <th></th>\n    </tr>\n  </thead>\n  <tbody>\n    <tr>\n      <th>1</th>\n      <td>15709.0</td>\n      <td>56.0</td>\n      <td>1</td>\n      <td>NaN</td>\n      <td>63.0</td>\n      <td>2.0</td>\n      <td>0.0</td>\n      <td>CS-12   E</td>\n      <td>1984-11-09 09:17:34</td>\n      <td>sinusrhythmus periphere niederspannung</td>\n      <td>...</td>\n      <td>True</td>\n      <td>NaN</td>\n      <td>, I-V1,</td>\n      <td>NaN</td>\n      <td>NaN</td>\n      <td>NaN</td>\n      <td>NaN</td>\n      <td>3</td>\n      <td>records100/00000/00001_lr</td>\n      <td>records500/00000/00001_hr</td>\n    </tr>\n    <tr>\n      <th>2</th>\n      <td>13243.0</td>\n      <td>19.0</td>\n      <td>0</td>\n      <td>NaN</td>\n      <td>70.0</td>\n      <td>2.0</td>\n      <td>0.0</td>\n      <td>CS-12   E</td>\n      <td>1984-11-14 12:55:37</td>\n      <td>sinusbradykardie sonst normales ekg</td>\n      <td>...</td>\n      <td>True</td>\n      <td>NaN</td>\n      <td>NaN</td>\n      <td>NaN</td>\n      <td>NaN</td>\n      <td>NaN</td>\n      <td>NaN</td>\n      <td>2</td>\n      <td>records100/00000/00002_lr</td>\n      <td>records500/00000/00002_hr</td>\n    </tr>\n    <tr>\n      <th>3</th>\n      <td>20372.0</td>\n      <td>37.0</td>\n      <td>1</td>\n      <td>NaN</td>\n      <td>69.0</td>\n      <td>2.0</td>\n      <td>0.0</td>\n      <td>CS-12   E</td>\n      <td>1984-11-15 12:49:10</td>\n      <td>sinusrhythmus normales ekg</td>\n      <td>...</td>\n      <td>True</td>\n      <td>NaN</td>\n      <td>NaN</td>\n      <td>NaN</td>\n      <td>NaN</td>\n      <td>NaN</td>\n      <td>NaN</td>\n      <td>5</td>\n      <td>records100/00000/00003_lr</td>\n      <td>records500/00000/00003_hr</td>\n    </tr>\n    <tr>\n      <th>4</th>\n      <td>17014.0</td>\n      <td>24.0</td>\n      <td>0</td>\n      <td>NaN</td>\n      <td>82.0</td>\n      <td>2.0</td>\n      <td>0.0</td>\n      <td>CS-12   E</td>\n      <td>1984-11-15 13:44:57</td>\n      <td>sinusrhythmus normales ekg</td>\n      <td>...</td>\n      <td>True</td>\n      <td>, II,III,AVF</td>\n      <td>NaN</td>\n      <td>NaN</td>\n      <td>NaN</td>\n      <td>NaN</td>\n      <td>NaN</td>\n      <td>3</td>\n      <td>records100/00000/00004_lr</td>\n      <td>records500/00000/00004_hr</td>\n    </tr>\n    <tr>\n      <th>5</th>\n      <td>17448.0</td>\n      <td>19.0</td>\n      <td>1</td>\n      <td>NaN</td>\n      <td>70.0</td>\n      <td>2.0</td>\n      <td>0.0</td>\n      <td>CS-12   E</td>\n      <td>1984-11-17 10:43:15</td>\n      <td>sinusrhythmus normales ekg</td>\n      <td>...</td>\n      <td>True</td>\n      <td>, III,AVR,AVF</td>\n      <td>NaN</td>\n      <td>NaN</td>\n      <td>NaN</td>\n      <td>NaN</td>\n      <td>NaN</td>\n      <td>4</td>\n      <td>records100/00000/00005_lr</td>\n      <td>records500/00000/00005_hr</td>\n    </tr>\n  </tbody>\n</table>\n<p>5 rows × 27 columns</p>\n</div>"
     },
     "execution_count": 12,
     "metadata": {},
     "output_type": "execute_result"
    }
   ],
   "source": [
    "patient_data.head()"
   ],
   "metadata": {
    "collapsed": false,
    "ExecuteTime": {
     "end_time": "2024-05-24T19:28:46.811738Z",
     "start_time": "2024-05-24T19:28:46.791376Z"
    }
   },
   "execution_count": 12
  },
  {
   "cell_type": "code",
   "execution_count": 13,
   "metadata": {
    "ExecuteTime": {
     "end_time": "2024-05-24T19:28:49.944957Z",
     "start_time": "2024-05-24T19:28:49.937882Z"
    }
   },
   "outputs": [
    {
     "data": {
      "text/plain": "(15245, 1000, 12)"
     },
     "execution_count": 13,
     "metadata": {},
     "output_type": "execute_result"
    }
   ],
   "source": [
    "X_train.shape"
   ]
  },
  {
   "cell_type": "code",
   "execution_count": 14,
   "metadata": {
    "ExecuteTime": {
     "end_time": "2024-05-24T19:28:50.532049Z",
     "start_time": "2024-05-24T19:28:50.528286Z"
    }
   },
   "outputs": [
    {
     "data": {
      "text/plain": "(1000, 12)"
     },
     "execution_count": 14,
     "metadata": {},
     "output_type": "execute_result"
    }
   ],
   "source": [
    "X_train[0].shape"
   ]
  },
  {
   "cell_type": "markdown",
   "source": [
    "## Prepare Labels for Classification"
   ],
   "metadata": {
    "collapsed": false
   }
  },
  {
   "cell_type": "code",
   "outputs": [],
   "source": [
    "# Convert the list of labels to a binary matrix using MultiLabelBinarizer as it is a multi-label classification problem\n",
    "def binarize_labels(y):\n",
    "    '''\n",
    "    This function converts a list of labels into a binary matrix.\n",
    "    :param y: \n",
    "    :return: \n",
    "    '''\n",
    "    mlb = MultiLabelBinarizer()\n",
    "    y_binarized = mlb.fit_transform(y)\n",
    "    return y_binarized, mlb.classes_"
   ],
   "metadata": {
    "collapsed": false,
    "ExecuteTime": {
     "end_time": "2024-05-24T19:28:54.701367Z",
     "start_time": "2024-05-24T19:28:54.697551Z"
    }
   },
   "execution_count": 16
  },
  {
   "cell_type": "code",
   "outputs": [],
   "source": [
    "# Convert the list of labels to a binary matrix\n",
    "y_train_binarized, classes = binarize_labels(y_train)\n",
    "y_val_binarized, classes = binarize_labels(y_val)\n",
    "y_test_binarized, classes = binarize_labels(y_test)"
   ],
   "metadata": {
    "collapsed": false,
    "ExecuteTime": {
     "end_time": "2024-05-24T19:28:55.812861Z",
     "start_time": "2024-05-24T19:28:55.766146Z"
    }
   },
   "execution_count": 17
  },
  {
   "cell_type": "code",
   "outputs": [
    {
     "data": {
      "text/plain": "(array([[0, 0, 0, 1, 0],\n        [0, 0, 0, 1, 0],\n        [0, 0, 0, 1, 0],\n        ...,\n        [0, 0, 0, 0, 1],\n        [0, 0, 0, 1, 0],\n        [0, 0, 0, 0, 1]]),\n array(['CD', 'HYP', 'MI', 'NORM', 'STTC'], dtype=object))"
     },
     "execution_count": 18,
     "metadata": {},
     "output_type": "execute_result"
    }
   ],
   "source": [
    "# Check the shape of the binarized labels\n",
    "y_train_binarized, classes"
   ],
   "metadata": {
    "collapsed": false,
    "ExecuteTime": {
     "end_time": "2024-05-24T19:28:56.520074Z",
     "start_time": "2024-05-24T19:28:56.515259Z"
    }
   },
   "execution_count": 18
  },
  {
   "cell_type": "code",
   "outputs": [
    {
     "data": {
      "text/plain": "((15245, 5), (4356, 5), (2198, 5))"
     },
     "execution_count": 32,
     "metadata": {},
     "output_type": "execute_result"
    }
   ],
   "source": [
    "y_train_binarized.shape, y_val_binarized.shape, y_test_binarized.shape"
   ],
   "metadata": {
    "collapsed": false,
    "ExecuteTime": {
     "end_time": "2024-05-24T20:31:54.431566Z",
     "start_time": "2024-05-24T20:31:54.416935Z"
    }
   },
   "execution_count": 32
  },
  {
   "cell_type": "code",
   "outputs": [],
   "source": [
    "def plot_classes(data):\n",
    "    '''\n",
    "    This function plots the distribution of classes in the dataset.\n",
    "    :param classes: \n",
    "    :param y: \n",
    "    :return: \n",
    "    '''\n",
    "    classes, y = data\n",
    "    if y.shape[1] != len(classes):\n",
    "        raise ValueError(\"The number of classes should match the number of columns in the labels matrix.\")\n",
    "    # Count the number of occurrences of each class\n",
    "    class_counts = np.sum(y, axis=0)\n",
    "\n",
    "    # Plot the class distribution\n",
    "    plt.figure(figsize=(10, 6))\n",
    "    plt.bar(classes, class_counts)\n",
    "    plt.xlabel('Classes')\n",
    "    plt.ylabel('Counts')\n",
    "    plt.title('Class Distribution')\n",
    "    plt.xticks(rotation=45)\n",
    "    plt.show()"
   ],
   "metadata": {
    "collapsed": false,
    "ExecuteTime": {
     "end_time": "2024-05-24T19:28:59.118432Z",
     "start_time": "2024-05-24T19:28:59.106069Z"
    }
   },
   "execution_count": 19
  },
  {
   "cell_type": "code",
   "outputs": [
    {
     "ename": "ValueError",
     "evalue": "too many values to unpack (expected 2)",
     "output_type": "error",
     "traceback": [
      "\u001B[0;31m---------------------------------------------------------------------------\u001B[0m",
      "\u001B[0;31mValueError\u001B[0m                                Traceback (most recent call last)",
      "Cell \u001B[0;32mIn[106], line 2\u001B[0m\n\u001B[1;32m      1\u001B[0m \u001B[38;5;66;03m# Plot the distribution of classes in the training set\u001B[39;00m\n\u001B[0;32m----> 2\u001B[0m \u001B[43mplot_classes\u001B[49m\u001B[43m(\u001B[49m\u001B[43my_train_binarized\u001B[49m\u001B[43m)\u001B[49m\n",
      "Cell \u001B[0;32mIn[105], line 8\u001B[0m, in \u001B[0;36mplot_classes\u001B[0;34m(data)\u001B[0m\n\u001B[1;32m      1\u001B[0m \u001B[38;5;28;01mdef\u001B[39;00m \u001B[38;5;21mplot_classes\u001B[39m(data):\n\u001B[1;32m      2\u001B[0m \u001B[38;5;250m    \u001B[39m\u001B[38;5;124;03m'''\u001B[39;00m\n\u001B[1;32m      3\u001B[0m \u001B[38;5;124;03m    This function plots the distribution of classes in the dataset.\u001B[39;00m\n\u001B[1;32m      4\u001B[0m \u001B[38;5;124;03m    :param classes: \u001B[39;00m\n\u001B[1;32m      5\u001B[0m \u001B[38;5;124;03m    :param y: \u001B[39;00m\n\u001B[1;32m      6\u001B[0m \u001B[38;5;124;03m    :return: \u001B[39;00m\n\u001B[1;32m      7\u001B[0m \u001B[38;5;124;03m    '''\u001B[39;00m\n\u001B[0;32m----> 8\u001B[0m     classes, y \u001B[38;5;241m=\u001B[39m data\n\u001B[1;32m      9\u001B[0m     \u001B[38;5;28;01mif\u001B[39;00m y\u001B[38;5;241m.\u001B[39mshape[\u001B[38;5;241m1\u001B[39m] \u001B[38;5;241m!=\u001B[39m \u001B[38;5;28mlen\u001B[39m(classes):\n\u001B[1;32m     10\u001B[0m         \u001B[38;5;28;01mraise\u001B[39;00m \u001B[38;5;167;01mValueError\u001B[39;00m(\u001B[38;5;124m\"\u001B[39m\u001B[38;5;124mThe number of classes should match the number of columns in the labels matrix.\u001B[39m\u001B[38;5;124m\"\u001B[39m)\n",
      "\u001B[0;31mValueError\u001B[0m: too many values to unpack (expected 2)"
     ]
    }
   ],
   "source": [
    "# Plot the distribution of classes in the training set\n",
    "plot_classes(y_train_binarized)"
   ],
   "metadata": {
    "collapsed": false,
    "ExecuteTime": {
     "end_time": "2024-05-24T17:29:22.239059Z",
     "start_time": "2024-05-24T17:29:22.083051Z"
    }
   },
   "execution_count": 106
  },
  {
   "cell_type": "markdown",
   "source": [
    "### Simple Neural Network"
   ],
   "metadata": {
    "collapsed": false
   }
  },
  {
   "cell_type": "code",
   "outputs": [],
   "source": [
    "# get the input shape and number of classes\n",
    "input_shape = X_train.shape[1:]\n",
    "num_classes = y_train_binarized.shape[1]"
   ],
   "metadata": {
    "collapsed": false,
    "ExecuteTime": {
     "end_time": "2024-05-24T20:20:58.773289Z",
     "start_time": "2024-05-24T20:20:58.764063Z"
    }
   },
   "execution_count": 25
  },
  {
   "cell_type": "code",
   "outputs": [
    {
     "name": "stderr",
     "output_type": "stream",
     "text": [
      "/Users/gala/PycharmProjects/Saturdays_FP/disease-prediction/dis/lib/python3.10/site-packages/keras/src/layers/reshaping/flatten.py:37: UserWarning: Do not pass an `input_shape`/`input_dim` argument to a layer. When using Sequential models, prefer using an `Input(shape)` object as the first layer in the model instead.\n",
      "  super().__init__(**kwargs)\n"
     ]
    },
    {
     "data": {
      "text/plain": "\u001B[1mModel: \"sequential_4\"\u001B[0m\n",
      "text/html": "<pre style=\"white-space:pre;overflow-x:auto;line-height:normal;font-family:Menlo,'DejaVu Sans Mono',consolas,'Courier New',monospace\"><span style=\"font-weight: bold\">Model: \"sequential_4\"</span>\n</pre>\n"
     },
     "metadata": {},
     "output_type": "display_data"
    },
    {
     "data": {
      "text/plain": "┏━━━━━━━━━━━━━━━━━━━━━━━━━━━━━━━━━┳━━━━━━━━━━━━━━━━━━━━━━━━┳━━━━━━━━━━━━━━━┓\n┃\u001B[1m \u001B[0m\u001B[1mLayer (type)                   \u001B[0m\u001B[1m \u001B[0m┃\u001B[1m \u001B[0m\u001B[1mOutput Shape          \u001B[0m\u001B[1m \u001B[0m┃\u001B[1m \u001B[0m\u001B[1m      Param #\u001B[0m\u001B[1m \u001B[0m┃\n┡━━━━━━━━━━━━━━━━━━━━━━━━━━━━━━━━━╇━━━━━━━━━━━━━━━━━━━━━━━━╇━━━━━━━━━━━━━━━┩\n│ flatten (\u001B[38;5;33mFlatten\u001B[0m)               │ (\u001B[38;5;45mNone\u001B[0m, \u001B[38;5;34m12000\u001B[0m)          │             \u001B[38;5;34m0\u001B[0m │\n├─────────────────────────────────┼────────────────────────┼───────────────┤\n│ dense_16 (\u001B[38;5;33mDense\u001B[0m)                │ (\u001B[38;5;45mNone\u001B[0m, \u001B[38;5;34m64\u001B[0m)             │       \u001B[38;5;34m768,064\u001B[0m │\n├─────────────────────────────────┼────────────────────────┼───────────────┤\n│ dense_17 (\u001B[38;5;33mDense\u001B[0m)                │ (\u001B[38;5;45mNone\u001B[0m, \u001B[38;5;34m32\u001B[0m)             │         \u001B[38;5;34m2,080\u001B[0m │\n├─────────────────────────────────┼────────────────────────┼───────────────┤\n│ dense_18 (\u001B[38;5;33mDense\u001B[0m)                │ (\u001B[38;5;45mNone\u001B[0m, \u001B[38;5;34m16\u001B[0m)             │           \u001B[38;5;34m528\u001B[0m │\n├─────────────────────────────────┼────────────────────────┼───────────────┤\n│ dense_19 (\u001B[38;5;33mDense\u001B[0m)                │ (\u001B[38;5;45mNone\u001B[0m, \u001B[38;5;34m5\u001B[0m)              │            \u001B[38;5;34m85\u001B[0m │\n└─────────────────────────────────┴────────────────────────┴───────────────┘\n",
      "text/html": "<pre style=\"white-space:pre;overflow-x:auto;line-height:normal;font-family:Menlo,'DejaVu Sans Mono',consolas,'Courier New',monospace\">┏━━━━━━━━━━━━━━━━━━━━━━━━━━━━━━━━━┳━━━━━━━━━━━━━━━━━━━━━━━━┳━━━━━━━━━━━━━━━┓\n┃<span style=\"font-weight: bold\"> Layer (type)                    </span>┃<span style=\"font-weight: bold\"> Output Shape           </span>┃<span style=\"font-weight: bold\">       Param # </span>┃\n┡━━━━━━━━━━━━━━━━━━━━━━━━━━━━━━━━━╇━━━━━━━━━━━━━━━━━━━━━━━━╇━━━━━━━━━━━━━━━┩\n│ flatten (<span style=\"color: #0087ff; text-decoration-color: #0087ff\">Flatten</span>)               │ (<span style=\"color: #00d7ff; text-decoration-color: #00d7ff\">None</span>, <span style=\"color: #00af00; text-decoration-color: #00af00\">12000</span>)          │             <span style=\"color: #00af00; text-decoration-color: #00af00\">0</span> │\n├─────────────────────────────────┼────────────────────────┼───────────────┤\n│ dense_16 (<span style=\"color: #0087ff; text-decoration-color: #0087ff\">Dense</span>)                │ (<span style=\"color: #00d7ff; text-decoration-color: #00d7ff\">None</span>, <span style=\"color: #00af00; text-decoration-color: #00af00\">64</span>)             │       <span style=\"color: #00af00; text-decoration-color: #00af00\">768,064</span> │\n├─────────────────────────────────┼────────────────────────┼───────────────┤\n│ dense_17 (<span style=\"color: #0087ff; text-decoration-color: #0087ff\">Dense</span>)                │ (<span style=\"color: #00d7ff; text-decoration-color: #00d7ff\">None</span>, <span style=\"color: #00af00; text-decoration-color: #00af00\">32</span>)             │         <span style=\"color: #00af00; text-decoration-color: #00af00\">2,080</span> │\n├─────────────────────────────────┼────────────────────────┼───────────────┤\n│ dense_18 (<span style=\"color: #0087ff; text-decoration-color: #0087ff\">Dense</span>)                │ (<span style=\"color: #00d7ff; text-decoration-color: #00d7ff\">None</span>, <span style=\"color: #00af00; text-decoration-color: #00af00\">16</span>)             │           <span style=\"color: #00af00; text-decoration-color: #00af00\">528</span> │\n├─────────────────────────────────┼────────────────────────┼───────────────┤\n│ dense_19 (<span style=\"color: #0087ff; text-decoration-color: #0087ff\">Dense</span>)                │ (<span style=\"color: #00d7ff; text-decoration-color: #00d7ff\">None</span>, <span style=\"color: #00af00; text-decoration-color: #00af00\">5</span>)              │            <span style=\"color: #00af00; text-decoration-color: #00af00\">85</span> │\n└─────────────────────────────────┴────────────────────────┴───────────────┘\n</pre>\n"
     },
     "metadata": {},
     "output_type": "display_data"
    },
    {
     "data": {
      "text/plain": "\u001B[1m Total params: \u001B[0m\u001B[38;5;34m770,757\u001B[0m (2.94 MB)\n",
      "text/html": "<pre style=\"white-space:pre;overflow-x:auto;line-height:normal;font-family:Menlo,'DejaVu Sans Mono',consolas,'Courier New',monospace\"><span style=\"font-weight: bold\"> Total params: </span><span style=\"color: #00af00; text-decoration-color: #00af00\">770,757</span> (2.94 MB)\n</pre>\n"
     },
     "metadata": {},
     "output_type": "display_data"
    },
    {
     "data": {
      "text/plain": "\u001B[1m Trainable params: \u001B[0m\u001B[38;5;34m770,757\u001B[0m (2.94 MB)\n",
      "text/html": "<pre style=\"white-space:pre;overflow-x:auto;line-height:normal;font-family:Menlo,'DejaVu Sans Mono',consolas,'Courier New',monospace\"><span style=\"font-weight: bold\"> Trainable params: </span><span style=\"color: #00af00; text-decoration-color: #00af00\">770,757</span> (2.94 MB)\n</pre>\n"
     },
     "metadata": {},
     "output_type": "display_data"
    },
    {
     "data": {
      "text/plain": "\u001B[1m Non-trainable params: \u001B[0m\u001B[38;5;34m0\u001B[0m (0.00 B)\n",
      "text/html": "<pre style=\"white-space:pre;overflow-x:auto;line-height:normal;font-family:Menlo,'DejaVu Sans Mono',consolas,'Courier New',monospace\"><span style=\"font-weight: bold\"> Non-trainable params: </span><span style=\"color: #00af00; text-decoration-color: #00af00\">0</span> (0.00 B)\n</pre>\n"
     },
     "metadata": {},
     "output_type": "display_data"
    }
   ],
   "source": [
    "# Define a simple neural network\n",
    "snn = Sequential()\n",
    "snn.add(Flatten(input_shape=input_shape))\n",
    "snn.add(Dense(64, activation='relu'))\n",
    "snn.add(Dense(32, activation='relu'))\n",
    "snn.add(Dense(16, activation='relu'))\n",
    "snn.add(Dense(num_classes, activation='sigmoid')) # Use sigmoid for multi-label classification\n",
    "snn.compile(optimizer='adam', loss='binary_crossentropy', metrics=['accuracy'])\n",
    "snn.summary()"
   ],
   "metadata": {
    "collapsed": false,
    "ExecuteTime": {
     "end_time": "2024-05-24T20:40:06.626634Z",
     "start_time": "2024-05-24T20:40:06.490606Z"
    }
   },
   "execution_count": 34
  },
  {
   "cell_type": "code",
   "outputs": [
    {
     "name": "stdout",
     "output_type": "stream",
     "text": [
      "Epoch 1/10\n",
      "\u001B[1m477/477\u001B[0m \u001B[32m━━━━━━━━━━━━━━━━━━━━\u001B[0m\u001B[37m\u001B[0m \u001B[1m5s\u001B[0m 9ms/step - accuracy: 0.3421 - loss: 0.5861 - val_accuracy: 0.4309 - val_loss: 0.5327\n",
      "Epoch 2/10\n",
      "\u001B[1m477/477\u001B[0m \u001B[32m━━━━━━━━━━━━━━━━━━━━\u001B[0m\u001B[37m\u001B[0m \u001B[1m2s\u001B[0m 3ms/step - accuracy: 0.4969 - loss: 0.4688 - val_accuracy: 0.4236 - val_loss: 0.5285\n",
      "Epoch 3/10\n",
      "\u001B[1m477/477\u001B[0m \u001B[32m━━━━━━━━━━━━━━━━━━━━\u001B[0m\u001B[37m\u001B[0m \u001B[1m1s\u001B[0m 3ms/step - accuracy: 0.5661 - loss: 0.3889 - val_accuracy: 0.4364 - val_loss: 0.5561\n",
      "Epoch 4/10\n",
      "\u001B[1m477/477\u001B[0m \u001B[32m━━━━━━━━━━━━━━━━━━━━\u001B[0m\u001B[37m\u001B[0m \u001B[1m1s\u001B[0m 3ms/step - accuracy: 0.6328 - loss: 0.3140 - val_accuracy: 0.4334 - val_loss: 0.6143\n",
      "Epoch 5/10\n",
      "\u001B[1m477/477\u001B[0m \u001B[32m━━━━━━━━━━━━━━━━━━━━\u001B[0m\u001B[37m\u001B[0m \u001B[1m1s\u001B[0m 3ms/step - accuracy: 0.6875 - loss: 0.2611 - val_accuracy: 0.4141 - val_loss: 0.6905\n",
      "Epoch 6/10\n",
      "\u001B[1m477/477\u001B[0m \u001B[32m━━━━━━━━━━━━━━━━━━━━\u001B[0m\u001B[37m\u001B[0m \u001B[1m1s\u001B[0m 3ms/step - accuracy: 0.7193 - loss: 0.2237 - val_accuracy: 0.4160 - val_loss: 0.7665\n",
      "Epoch 7/10\n",
      "\u001B[1m477/477\u001B[0m \u001B[32m━━━━━━━━━━━━━━━━━━━━\u001B[0m\u001B[37m\u001B[0m \u001B[1m2s\u001B[0m 3ms/step - accuracy: 0.7520 - loss: 0.1810 - val_accuracy: 0.4275 - val_loss: 0.8614\n",
      "Epoch 8/10\n",
      "\u001B[1m477/477\u001B[0m \u001B[32m━━━━━━━━━━━━━━━━━━━━\u001B[0m\u001B[37m\u001B[0m \u001B[1m2s\u001B[0m 3ms/step - accuracy: 0.7742 - loss: 0.1567 - val_accuracy: 0.4162 - val_loss: 0.9527\n",
      "Epoch 9/10\n",
      "\u001B[1m477/477\u001B[0m \u001B[32m━━━━━━━━━━━━━━━━━━━━\u001B[0m\u001B[37m\u001B[0m \u001B[1m1s\u001B[0m 3ms/step - accuracy: 0.7903 - loss: 0.1339 - val_accuracy: 0.4068 - val_loss: 1.0338\n",
      "Epoch 10/10\n",
      "\u001B[1m477/477\u001B[0m \u001B[32m━━━━━━━━━━━━━━━━━━━━\u001B[0m\u001B[37m\u001B[0m \u001B[1m1s\u001B[0m 3ms/step - accuracy: 0.8064 - loss: 0.1176 - val_accuracy: 0.4233 - val_loss: 1.1240\n"
     ]
    }
   ],
   "source": [
    "# Train the model\n",
    "history = snn.fit(X_train, y_train_binarized, validation_data=(X_val, y_val_binarized), epochs=10, batch_size=32)"
   ],
   "metadata": {
    "collapsed": false,
    "ExecuteTime": {
     "end_time": "2024-05-24T20:40:39.002493Z",
     "start_time": "2024-05-24T20:40:13.193398Z"
    }
   },
   "execution_count": 35
  },
  {
   "cell_type": "code",
   "outputs": [
    {
     "data": {
      "text/plain": "<Figure size 1000x600 with 0 Axes>"
     },
     "metadata": {},
     "output_type": "display_data"
    },
    {
     "data": {
      "text/plain": "<Figure size 640x480 with 1 Axes>",
      "image/png": "[encoded data removed]"
     },
     "metadata": {},
     "output_type": "display_data"
    }
   ],
   "source": [
    "# plot the training and validation loss\n",
    "plt.figure(figsize=(10, 6))\n",
    "pd.DataFrame(history.history).plot()\n",
    "plt.show()"
   ],
   "metadata": {
    "collapsed": false,
    "ExecuteTime": {
     "end_time": "2024-05-24T20:42:34.851920Z",
     "start_time": "2024-05-24T20:42:34.613018Z"
    }
   },
   "execution_count": 36
  },
  {
   "cell_type": "code",
   "outputs": [],
   "source": [],
   "metadata": {
    "collapsed": false
   }
  }
 ],
 "metadata": {
  "kernelspec": {
   "display_name": "saturdais",
   "language": "python",
   "name": "python3"
  },
  "language_info": {
   "codemirror_mode": {
    "name": "ipython",
    "version": 3
   },
   "file_extension": ".py",
   "mimetype": "text/x-python",
   "name": "python",
   "nbconvert_exporter": "python",
   "pygments_lexer": "ipython3",
   "version": "3.11.6"
  }
 },
 "nbformat": 4,
 "nbformat_minor": 2
}
